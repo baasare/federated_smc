{
 "cells": [
  {
   "cell_type": "code",
   "execution_count": 1,
   "outputs": [],
   "source": [
    "import random\n",
    "import numpy as np\n",
    "from tinysmpc.tinysmpc import VirtualMachine, PrivateScalar\n",
    "from tinysmpc.fixed_point import fixed_point, float_point"
   ],
   "metadata": {
    "collapsed": false
   }
  },
  {
   "cell_type": "code",
   "execution_count": 2,
   "outputs": [],
   "source": [
    "N = 4\n",
    "Q = 2657003489534545107915232808830590043"
   ],
   "metadata": {
    "collapsed": false
   }
  },
  {
   "cell_type": "code",
   "execution_count": 3,
   "outputs": [],
   "source": [
    "def additive_share(secret, N):\n",
    "    shares = [random.randrange(Q) for _ in range(N - 1)]\n",
    "    shares += [(secret - sum(shares)) % Q]\n",
    "    return shares\n",
    "\n",
    "\n",
    "def additive_reconstruct(shares):\n",
    "    return sum(shares) % Q\n",
    "\n",
    "\n",
    "def share_tensor(tensor, n):\n",
    "    if tensor.ndim == 1:\n",
    "        tensor = np.expand_dims(tensor, axis=1)\n",
    "\n",
    "    random_values = [random.randrange(Q) for _ in range(np.prod((tensor.shape + (n - 1,))))]\n",
    "    random_shares = np.array(random_values).reshape(n - 1, tensor.shape[0], tensor.shape[1])\n",
    "    n_shares = np.concatenate([random_shares, [(tensor - random_shares.sum(axis=0)) % Q]])\n",
    "    return n_shares\n",
    "\n",
    "\n",
    "def additive_reconstruct_tensor(shares):\n",
    "    secrets = shares.sum(axis=0) % Q\n",
    "    return secrets"
   ],
   "metadata": {
    "collapsed": false
   }
  },
  {
   "cell_type": "markdown",
   "source": [
    "# Fixed Point Conversion Testing\n",
    "### Single Values"
   ],
   "metadata": {
    "collapsed": false
   }
  },
  {
   "cell_type": "code",
   "execution_count": 4,
   "outputs": [
    {
     "name": "stdout",
     "output_type": "stream",
     "text": [
      "Test Float Point: 1.2345\n",
      "Test Fixed Point (Converted): 123450000\n",
      "Test Fixed Point Shares: [2292647927156271777280547472277934142, 153414946179535993064733405463354015, 210940616198737337569951931212751886]\n",
      "Test Fixed Point Additive Reconstructed: 123450000\n",
      "Test Float Point Reconstructed: 1.2345\n"
     ]
    }
   ],
   "source": [
    "test_float_point = 1.2345\n",
    "\n",
    "test_fixed_point = fixed_point(test_float_point)\n",
    "\n",
    "test_fixed_point_shares = additive_share(test_fixed_point, 3)\n",
    "\n",
    "test_fixed_point_recon = additive_reconstruct(test_fixed_point_shares)\n",
    "\n",
    "test_reconstructed_float_point = float_point(test_fixed_point)\n",
    "\n",
    "print(f\"Test Float Point: {test_float_point}\")\n",
    "print(f\"Test Fixed Point (Converted): {test_fixed_point}\")\n",
    "print(f\"Test Fixed Point Shares: {test_fixed_point_shares}\")\n",
    "print(f\"Test Fixed Point Additive Reconstructed: {test_fixed_point_recon}\")\n",
    "print(f\"Test Float Point Reconstructed: {test_reconstructed_float_point}\")"
   ],
   "metadata": {
    "collapsed": false
   }
  },
  {
   "cell_type": "markdown",
   "source": [
    "### Tensor Values"
   ],
   "metadata": {
    "collapsed": false
   }
  },
  {
   "cell_type": "code",
   "execution_count": 5,
   "outputs": [
    {
     "name": "stdout",
     "output_type": "stream",
     "text": [
      "Float Point Secret\n",
      "[[0.79968989 0.66124635 0.70672638]\n",
      " [0.48489617 0.67780184 0.87376581]\n",
      " [0.70964431 0.84952069 0.59766224]\n",
      " [0.88509929 0.56674216 0.77435297]]\n",
      "\n",
      "Fixed Point Secret (Converted)\n",
      "[[79968988 66124635 70672637]\n",
      " [48489617 67780183 87376581]\n",
      " [70964431 84952068 59766224]\n",
      " [88509929 56674216 77435296]]\n",
      "\n",
      "Float Point Secret Reconstructed\n",
      "[[0.79968988 0.66124635 0.70672637]\n",
      " [0.48489617 0.67780183 0.87376581]\n",
      " [0.70964431 0.84952068 0.59766224]\n",
      " [0.88509929 0.56674216 0.77435296]]\n",
      "\n"
     ]
    }
   ],
   "source": [
    "fixedPoint = np.vectorize(fixed_point)\n",
    "floatPoint = np.vectorize(float_point)\n",
    "\n",
    "float_point_secret = np.random.rand(4, 3)\n",
    "\n",
    "fixed_point_secret = fixedPoint(float_point_secret)\n",
    "float_point_secret_reconstructed = floatPoint(fixed_point_secret)\n",
    "\n",
    "print(f\"Float Point Secret\\n{float_point_secret}\\n\")\n",
    "print(f\"Fixed Point Secret (Converted)\\n{fixed_point_secret}\\n\")\n",
    "print(f\"Float Point Secret Reconstructed\\n{float_point_secret_reconstructed}\\n\")"
   ],
   "metadata": {
    "collapsed": false
   }
  },
  {
   "cell_type": "markdown",
   "source": [
    "### Integer Tensor Additive Sharing Test"
   ],
   "metadata": {
    "collapsed": false
   }
  },
  {
   "cell_type": "code",
   "execution_count": 6,
   "outputs": [
    {
     "name": "stdout",
     "output_type": "stream",
     "text": [
      "Secret\n",
      "[[ 2 15 18]\n",
      " [ 6 13 10]\n",
      " [18  7  1]\n",
      " [18 10  9]]\n",
      "\n",
      "Reconstructed Secret\n",
      "[[2 15 18]\n",
      " [6 13 10]\n",
      " [18 7 1]\n",
      " [18 10 9]]\n",
      "\n"
     ]
    }
   ],
   "source": [
    "secret_int = np.random.randint(1, 20, (4, 3))\n",
    "print(f\"Secret\\n{secret_int}\\n\")\n",
    "\n",
    "test_shares = share_tensor(secret_int, N)\n",
    "# print(f\"Secret Shares: \\n{test_shares}\\n\")\n",
    "\n",
    "secret_reconstructed = additive_reconstruct_tensor(test_shares)\n",
    "\n",
    "print(f\"Reconstructed Secret\\n{secret_reconstructed}\\n\")"
   ],
   "metadata": {
    "collapsed": false
   }
  },
  {
   "cell_type": "markdown",
   "source": [
    "### Float Tensor Additive Sharing Test"
   ],
   "metadata": {
    "collapsed": false
   }
  },
  {
   "cell_type": "code",
   "execution_count": 15,
   "outputs": [
    {
     "name": "stdout",
     "output_type": "stream",
     "text": [
      "Fixed Point Secret\n",
      "[[79968988 66124635 70672637]\n",
      " [48489617 67780183 87376581]\n",
      " [70964431 84952068 59766224]\n",
      " [88509929 56674216 77435296]]\n",
      "\n",
      "Secret Shares \n",
      "[[[2449176870901746276146223537418284200\n",
      "   921615431078941823420907911101475773\n",
      "   2515118223691653604197854397761331271]\n",
      "  [724739347664024662781177928168272137\n",
      "   1369356444147215129194621968035128546\n",
      "   1608540646789960351166204491643362266]\n",
      "  [2472361101297132520615464426118624484\n",
      "   2211684131487887340492347087457223190\n",
      "   1504256000183032074889062611651726715]\n",
      "  [708735606702736837073622418719926716\n",
      "   595803118338681439928594869582167234\n",
      "   1321158731528577693592491329678156773]]\n",
      "\n",
      " [[225785247578094269806639134259646465\n",
      "   1233375255562014506788155553276795718\n",
      "   876194123092123793110868694997084689]\n",
      "  [1389103600362321088158348260899882125\n",
      "   155569768373940428525091976547558134\n",
      "   498100001155619152450357895124992105]\n",
      "  [357681807456591319583697184465324367\n",
      "   1818364351574667119916192852181148259\n",
      "   2161942984145019333279388501644857414]\n",
      "  [1076791309271462336225246906399502713\n",
      "   2051188189783610006528855960435242506\n",
      "   79566776209302665906785607337010086]]\n",
      "\n",
      " [[2588749442680418613912256099477332260\n",
      "   2630458235156172925278389451390029988\n",
      "   2501751137646363138760576224319485955]\n",
      "  [958933041620048452832733883207794259\n",
      "   1701750557564989795691707130600224213\n",
      "   1191961878354142099797991665395536607]\n",
      "  [2591919575182389106587861727918408810\n",
      "   2400452199818723047326012782454834001\n",
      "   2270211240591383602354973260969296191]\n",
      "  [1176992503026956772933389050236364156\n",
      "   2300504528450050044809881110588233120\n",
      "   1349587703369737407149655264559487752]]\n",
      "\n",
      " [[50295417908831055965346846585886149\n",
      "   528558057271960960343012701959003242\n",
      "   2077946984173494787676399109484540851]\n",
      "  [2241230989422696012058205545433721182\n",
      "   2087330208982944862419044542546049376\n",
      "   2015404452769368612415911565584665689]\n",
      "  [2549047984667522376958675088060376899\n",
      "   1540509785722357816011145704483516747\n",
      "   2034600243684200313222274052285656033]\n",
      "  [2351487560067934269598207242393896430\n",
      "   366511142496748724563133677112211442\n",
      "   2563693767961472449181533416163960771]]]\n",
      "\n",
      "Reconstructed Fixed Point Secret\n",
      "[[79968988 66124635 70672637]\n",
      " [48489617 67780183 87376581]\n",
      " [70964431 84952068 59766224]\n",
      " [88509929 56674216 77435296]]\n",
      "\n",
      "Reconstructed Float Point Secret\n",
      "[[0.79968988 0.66124635 0.70672637]\n",
      " [0.48489617 0.67780183 0.87376581]\n",
      " [0.70964431 0.84952068 0.59766224]\n",
      " [0.88509929 0.56674216 0.77435296]]\n",
      "\n"
     ]
    }
   ],
   "source": [
    "fixed_point_secret = fixedPoint(float_point_secret)\n",
    "print(f\"Fixed Point Secret\\n{fixed_point_secret}\\n\")\n",
    "\n",
    "fixed_point_test_shares = share_tensor(fixed_point_secret, N)\n",
    "fixed_point_secret_reconstructed = additive_reconstruct_tensor(fixed_point_test_shares)\n",
    "\n",
    "print(f\"Secret Shares \\n{fixed_point_test_shares}\\n\")\n",
    "print(f\"Reconstructed Fixed Point Secret\\n{fixed_point_secret_reconstructed}\\n\")\n",
    "print(f\"Reconstructed Float Point Secret\\n{floatPoint(fixed_point_secret_reconstructed)}\\n\")"
   ],
   "metadata": {
    "collapsed": false
   }
  },
  {
   "cell_type": "code",
   "execution_count": 8,
   "outputs": [
    {
     "name": "stdout",
     "output_type": "stream",
     "text": [
      "40000\n",
      "15000\n",
      "-20000\n"
     ]
    }
   ],
   "source": [
    "\n",
    "parameters = [\n",
    "    [\"kofi\", \"ama\", \"kojo\"],\n",
    "    [40000, 15000, -20000],\n",
    "]\n",
    "\n",
    "\"\"\"\n",
    "Secret sharing process\n",
    "\"\"\"\n",
    "#\n",
    "aggregator = VirtualMachine(\"aggregator\")\n",
    "\n",
    "# Edge Devices\n",
    "nodes = [VirtualMachine(node_id) for node_id in parameters[0]]\n",
    "\n",
    "# Tensors of edge devices\n",
    "node_values = [PrivateScalar(tensor, node) for tensor, node in zip(parameters[1], nodes)]\n",
    "\n",
    "# Nodes with their local shares\n",
    "exchanged_shares = []\n",
    "\n",
    "for value in node_values:\n",
    "    virtual_node = VirtualMachine(\"virtual_node\")\n",
    "    exchanged_shares.append(value.share(nodes).reconstruct(virtual_node).value)\n",
    "\n",
    "# temp = VirtualMachine(\"temp\")\n",
    "for node in exchanged_shares:\n",
    "    print(node)\n",
    "#     print(node.reconstruct(temp))\n",
    "#     print(\"\\n\\n\")\n",
    "#\n",
    "# shared_sum = sum(exchanged_shares)\n",
    "# shared_sum.reconstruct(aggregator)"
   ],
   "metadata": {
    "collapsed": false
   }
  },
  {
   "cell_type": "code",
   "execution_count": 14,
   "outputs": [
    {
     "name": "stdout",
     "output_type": "stream",
     "text": [
      "Original Sum\n",
      "SharedScalar\n",
      " - Share([[2543567554313415048125257998269096493\n",
      "  1691888855646298391950275914622336810\n",
      "  1830464034164250698229332936586364301]\n",
      " [1802280360049732169445758504822475117\n",
      "  923320525339267326461849518629645518\n",
      "  651976620369297962072174125719122303]], 'ama', Q=2657003489534545107915232808830590043)\n",
      " - Share([[113435935221130059789974810615191351\n",
      "  965114633888246715964956894224846181\n",
      "  826539455370294409685899872346007141]\n",
      " [854723129484812938469474304101319635\n",
      "  1733682964195277781453383290335299853\n",
      "  2005026869165247145843058683294393360]], 'kofi', Q=2657003489534545107915232808830590043)\n",
      "\n",
      "Original Sum\n",
      "[[ 53697801  16592948 101781399]\n",
      " [ 93204709 134355328 182925620]]\n",
      "\n",
      "Shared Sum\n",
      "[[53697801 16592948 101781399]\n",
      " [93204709 134355328 182925620]]\n",
      "\n"
     ]
    }
   ],
   "source": [
    "tensor_1 = fixedPoint(np.random.rand(2, 3))\n",
    "tensor_2 = fixedPoint(np.random.rand(2, 3))\n",
    "tensor_3 = fixedPoint(np.random.rand(2, 3))\n",
    "\n",
    "fl_node_weights = [\n",
    "    [\"kofi\", \"ama\"],\n",
    "    [tensor_1, tensor_2],\n",
    "]\n",
    "\n",
    "\"\"\"\n",
    "Secret sharing process\n",
    "\"\"\"\n",
    "#\n",
    "fl_server = VirtualMachine(\"fl_server\")\n",
    "\n",
    "# Edge Devices\n",
    "fl_nodes = [VirtualMachine(node_id) for node_id in fl_node_weights[0]]\n",
    "\n",
    "# Tensors of edge devices\n",
    "fl_node_values = [PrivateScalar(tensor, node) for tensor, node in zip(fl_node_weights[1], fl_nodes)]\n",
    "\n",
    "# Nodes with their local shares\n",
    "fl_exchanged_shares = []\n",
    "\n",
    "for value in fl_node_values:\n",
    "    fl_exchanged_shares.append(value.share_tensor(fl_nodes, Q))\n",
    "\n",
    "shared_sum = sum(fl_exchanged_shares)\n",
    "shared_sum.reconstruct(fl_server)\n",
    "\n",
    "print(f\"Original Sum\\n{shared_sum}\\n\")\n",
    "\n",
    "original_sum = np.array(fl_node_weights[1]).sum(axis=0)\n",
    "\n",
    "final_sum = np.array(fl_server.objects[-1].value)\n",
    "\n",
    "print(f\"Original Sum\\n{original_sum}\\n\")\n",
    "print(f\"Shared Sum\\n{final_sum}\\n\")\n",
    "# print(f\"Exchanged Shares\\n{fl_exchanged_shares[0]}\\n\")"
   ],
   "metadata": {
    "collapsed": false
   }
  },
  {
   "cell_type": "code",
   "execution_count": 10,
   "outputs": [
    {
     "name": "stdout",
     "output_type": "stream",
     "text": [
      "[89483306 49912214]\n"
     ]
    }
   ],
   "source": [
    "print(tensor_1)"
   ],
   "metadata": {
    "collapsed": false
   }
  },
  {
   "cell_type": "code",
   "execution_count": 11,
   "outputs": [
    {
     "name": "stdout",
     "output_type": "stream",
     "text": [
      "[PrivateScalar([89483306 49912214], 'kofi'), PrivateScalar([31957977 47438176], 'ama')]\n"
     ]
    }
   ],
   "source": [
    "print(fl_node_values)"
   ],
   "metadata": {
    "collapsed": false
   }
  },
  {
   "cell_type": "code",
   "execution_count": 12,
   "outputs": [
    {
     "name": "stdout",
     "output_type": "stream",
     "text": [
      "[array([89483306, 49912214]), array([31957977, 47438176])]\n"
     ]
    }
   ],
   "source": [
    "print(fl_node_weights[1])"
   ],
   "metadata": {
    "collapsed": false
   }
  },
  {
   "cell_type": "code",
   "execution_count": 12,
   "outputs": [],
   "source": [],
   "metadata": {
    "collapsed": false
   }
  }
 ],
 "metadata": {
  "kernelspec": {
   "display_name": "Python 3",
   "language": "python",
   "name": "python3"
  },
  "language_info": {
   "codemirror_mode": {
    "name": "ipython",
    "version": 2
   },
   "file_extension": ".py",
   "mimetype": "text/x-python",
   "name": "python",
   "nbconvert_exporter": "python",
   "pygments_lexer": "ipython2",
   "version": "2.7.6"
  }
 },
 "nbformat": 4,
 "nbformat_minor": 0
}
