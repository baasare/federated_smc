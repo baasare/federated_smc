{
 "cells": [
  {
   "cell_type": "code",
   "execution_count": 26,
   "metadata": {
    "collapsed": true
   },
   "outputs": [
    {
     "name": "stdout",
     "output_type": "stream",
     "text": [
      "Training on cpu using PyTorch 1.13.1+cpu and Flower 1.1.0\n"
     ]
    }
   ],
   "source": [
    "from collections import OrderedDict\n",
    "from typing import List, Tuple\n",
    "import time\n",
    "import flwr as fl\n",
    "import numpy as np\n",
    "import torch\n",
    "import torch.nn as nn\n",
    "import torch.nn.functional as F\n",
    "from flwr.server.strategy import FedAvg\n",
    "from torchvision.models._api import Weights\n",
    "from torchvision.transforms import transforms\n",
    "from typing import Optional, Dict\n",
    "from flwr.common import Metrics, parameters_to_ndarrays, ndarrays_to_parameters, FitRes\n",
    "from torch.utils.data import DataLoader, random_split\n",
    "from torchvision.datasets import CIFAR10\n",
    "\n",
    "from tinysmpc import VirtualMachine, PrivateScalar\n",
    "from tinysmpc.fixed_point import fixed_point, float_point\n",
    "\n",
    "DEVICE = torch.device(\"cpu\")  # Try \"cuda\" to train on GPU\n",
    "print(f\"Training on {DEVICE} using PyTorch {torch.__version__} and Flower {fl.__version__}\")"
   ]
  },
  {
   "cell_type": "code",
   "execution_count": 27,
   "outputs": [],
   "source": [
    "CLASSES = ('plane', 'car', 'bird', 'cat', 'deer', 'dog', 'frog', 'horse', 'ship', 'truck')\n",
    "NUM_CLIENTS = 5  # 10\n",
    "EPOCH = 2"
   ],
   "metadata": {
    "collapsed": false
   }
  },
  {
   "cell_type": "code",
   "execution_count": 28,
   "outputs": [
    {
     "name": "stdout",
     "output_type": "stream",
     "text": [
      "Train Size 50000\n",
      "Partition Size 10000\n",
      "Test Size 10000\n"
     ]
    }
   ],
   "source": [
    "\n",
    "BATCH_SIZE = 32\n",
    "\n",
    "\n",
    "def load_datasets():\n",
    "    # Download and transform CIFAR-10 (train and test)\n",
    "    transform = transforms.Compose(\n",
    "        [transforms.ToTensor(), transforms.Normalize((0.5, 0.5, 0.5), (0.5, 0.5, 0.5))]\n",
    "    )\n",
    "    trainset = CIFAR10(\"./dataset\", train=True, download=False, transform=transform)\n",
    "    testset = CIFAR10(\"./dataset\", train=False, download=False, transform=transform)\n",
    "\n",
    "    # Split training set into 10 partitions to simulate the individual dataset\n",
    "    partition_size = len(trainset) // NUM_CLIENTS\n",
    "    print(f\"Train Size {len(trainset)}\")\n",
    "    print(f\"Partition Size {partition_size}\")\n",
    "    print(f\"Test Size {len(testset)}\")\n",
    "    lengths = [partition_size] * NUM_CLIENTS\n",
    "    datasets = random_split(trainset, lengths, torch.Generator().manual_seed(42))\n",
    "\n",
    "    # Split each partition into train/val and create DataLoader\n",
    "    trainloaders = []\n",
    "    valloaders = []\n",
    "    for ds in datasets:\n",
    "        len_val = len(ds) // 10  # 10 % validation set\n",
    "        len_train = len(ds) - len_val\n",
    "        lengths = [len_train, len_val]\n",
    "        ds_train, ds_val = random_split(ds, lengths, torch.Generator().manual_seed(42))\n",
    "        trainloaders.append(DataLoader(ds_train, batch_size=BATCH_SIZE, shuffle=True))\n",
    "        valloaders.append(DataLoader(ds_val, batch_size=BATCH_SIZE))\n",
    "    testloader = DataLoader(testset, batch_size=BATCH_SIZE)\n",
    "    return trainloaders, valloaders, testloader\n",
    "\n",
    "\n",
    "trainloaders, valloaders, testloader = load_datasets()"
   ],
   "metadata": {
    "collapsed": false
   }
  },
  {
   "cell_type": "code",
   "execution_count": 29,
   "outputs": [],
   "source": [
    "class Net(nn.Module):\n",
    "    def __init__(self) -> None:\n",
    "        super(Net, self).__init__()\n",
    "        self.conv1 = nn.Conv2d(3, 6, 5)\n",
    "        self.pool = nn.MaxPool2d(2, 2)\n",
    "        self.conv2 = nn.Conv2d(6, 16, 5)\n",
    "        self.fc1 = nn.Linear(16 * 5 * 5, 120)\n",
    "        self.fc2 = nn.Linear(120, 84)\n",
    "        self.fc3 = nn.Linear(84, 10)\n",
    "\n",
    "    def forward(self, x: torch.Tensor) -> torch.Tensor:\n",
    "        x = self.pool(F.relu(self.conv1(x)))\n",
    "        x = self.pool(F.relu(self.conv2(x)))\n",
    "        x = x.view(-1, 16 * 5 * 5)\n",
    "        x = F.relu(self.fc1(x))\n",
    "        x = F.relu(self.fc2(x))\n",
    "        x = self.fc3(x)\n",
    "        return x"
   ],
   "metadata": {
    "collapsed": false
   }
  },
  {
   "cell_type": "code",
   "execution_count": 30,
   "outputs": [],
   "source": [
    "def train(net, trainloader, cid, epochs: int):\n",
    "    \"\"\"Train the network on the training set.\"\"\"\n",
    "    criterion = torch.nn.CrossEntropyLoss()\n",
    "    optimizer = torch.optim.Adam(net.parameters())\n",
    "    net.train()\n",
    "    times = []\n",
    "    for _ in range(epochs):\n",
    "        # measure start time\n",
    "        start_epoch = time.time()\n",
    "        # stat training\n",
    "        for images, labels in trainloader:\n",
    "            images, labels = images.to(DEVICE), labels.to(DEVICE)\n",
    "            optimizer.zero_grad()\n",
    "            loss = criterion(net(images), labels)\n",
    "            loss.backward()\n",
    "            optimizer.step()\n",
    "        # measure end time\n",
    "        end_epoch = time.time()\n",
    "        elapsed = end_epoch - start_epoch\n",
    "        times.append(elapsed)\n",
    "\n",
    "    avg_time = sum(times) / epochs\n",
    "    print(f\"CLIENT :{int(cid) + 1} \\nTIME ELAPSED {avg_time}\")\n",
    "\n",
    "\n",
    "def test(net, testloader):\n",
    "    \"\"\"Evaluate the network on the entire test set.\"\"\"\n",
    "    criterion = torch.nn.CrossEntropyLoss()\n",
    "    correct = 0\n",
    "    total = 0\n",
    "    loss = 0.0\n",
    "    net.eval()\n",
    "    with torch.no_grad():\n",
    "        for images, labels in testloader:\n",
    "            images, labels = images.to(DEVICE), labels.to(DEVICE)\n",
    "            outputs = net(images)\n",
    "            loss += criterion(outputs, labels).item()\n",
    "            _, predicted = torch.max(outputs.data, 1)\n",
    "            total += labels.size(0)\n",
    "            correct += (predicted == labels).sum().item()\n",
    "    loss /= len(testloader.dataset)\n",
    "    accuracy = correct / total\n",
    "    return loss, accuracy"
   ],
   "metadata": {
    "collapsed": false
   }
  },
  {
   "cell_type": "code",
   "execution_count": 31,
   "outputs": [],
   "source": [
    "class FlowerClient(fl.client.NumPyClient):\n",
    "    def __init__(self, net, trainloader, valloader, cid):\n",
    "        self.net = net\n",
    "        self.trainloader = trainloader\n",
    "        self.valloader = valloader\n",
    "        self.cid = cid\n",
    "\n",
    "    def set_parameters(self, parameters: List[np.ndarray]):\n",
    "        params_dict = zip(self.net.state_dict().keys(), parameters)\n",
    "        state_dict = OrderedDict({k: torch.Tensor(v) for k, v in params_dict})\n",
    "        self.net.load_state_dict(state_dict, strict=True)\n",
    "\n",
    "    def get_parameters(self, config):\n",
    "        return [val.cpu().numpy() for _, val in self.net.state_dict().items()]\n",
    "\n",
    "    def fit(self, parameters, config):\n",
    "        self.set_parameters(parameters)\n",
    "        train(self.net, self.trainloader, self.cid, EPOCH)\n",
    "        return self.get_parameters(self.net), len(self.trainloader), {}\n",
    "\n",
    "    def evaluate(self, parameters, config):\n",
    "        self.set_parameters(parameters)\n",
    "        loss, accuracy = test(self.net, self.valloader)\n",
    "        return float(loss), len(self.valloader), {\"accuracy\": float(accuracy)}"
   ],
   "metadata": {
    "collapsed": false
   }
  },
  {
   "cell_type": "code",
   "execution_count": 32,
   "outputs": [],
   "source": [
    "def client_fn(cid: str) -> FlowerClient:\n",
    "    \"\"\"Create a Flower client representing a single organization.\"\"\"\n",
    "\n",
    "    # Load model\n",
    "    net = Net().to(DEVICE)\n",
    "\n",
    "    # Load data (CIFAR-10)\n",
    "    # Note: each client gets a different trainloader/valloader, so each client\n",
    "    # will train and evaluate on their own unique data\n",
    "    trainloader = trainloaders[int(cid)]\n",
    "    valloader = valloaders[int(cid)]\n",
    "\n",
    "    # Create a  single Flower client representing a single organization\n",
    "    return FlowerClient(net, trainloader, valloader, cid)"
   ],
   "metadata": {
    "collapsed": false
   }
  },
  {
   "cell_type": "code",
   "execution_count": 33,
   "outputs": [],
   "source": [
    "Q = 2657003489534545107915232808830590043\n",
    "fixedPoint = np.vectorize(fixed_point)\n",
    "floatPoint = np.vectorize(float_point)\n",
    "\n",
    "\n",
    "class FedAvgSmc(FedAvg):\n",
    "    def aggregate_fit(\n",
    "            self,\n",
    "            rnd: int,\n",
    "            results: List[Tuple[fl.server.client_proxy.ClientProxy, FitRes]],\n",
    "            failures: List[BaseException],\n",
    "    ) -> Optional[Weights]:\n",
    "        if not results:\n",
    "            return None\n",
    "\n",
    "        start_epoch = time.time()\n",
    "\n",
    "        clients = []\n",
    "        fit_results = []\n",
    "\n",
    "        for client, fit_result in results:\n",
    "            clients.append(client)\n",
    "            fit_results.append(fit_result)\n",
    "\n",
    "        fit_res_ndarray_parameters = [parameters_to_ndarrays(result.parameters) for result in\n",
    "                                      fit_results]  # list of clients, each with a list of layers(each layer representing weights)\n",
    "\n",
    "        fl_nodes = [VirtualMachine(f\"Client: {client.cid}\") for client in clients]\n",
    "\n",
    "        num_layers = len(fit_results[0].parameters.tensors)\n",
    "\n",
    "        layers_weights = {}\n",
    "\n",
    "        layers_weights_smc = {}\n",
    "\n",
    "        for layer in range(num_layers):  #loop through number of layers\n",
    "            layers_weights[f\"layer_{layer}\"] = []\n",
    "            for weights in fit_res_ndarray_parameters:\n",
    "                layers_weights[f\"layer_{layer}\"].append(fixedPoint(weights[layer]))\n",
    "\n",
    "        for layer in range(num_layers):\n",
    "            fl_node_values = [PrivateScalar(tensor, node) for tensor, node in\n",
    "                              zip(layers_weights[f'layer_{layer}'], fl_nodes)]\n",
    "\n",
    "            fl_exchanged_shares = []\n",
    "            fl_exchanged_shares_list = []\n",
    "            layers_weights_smc[f\"layer_{layer}\"] = []\n",
    "\n",
    "            for value in fl_node_values:\n",
    "                fl_exchanged_shares.append(value.share_tensor(fl_nodes, Q))\n",
    "\n",
    "            for client_shares in fl_exchanged_shares:\n",
    "                fl_exchanged_shares_list = [share.value for share in client_shares.shares]\n",
    "\n",
    "            layers_weights_smc[f'layer_{layer}'] = floatPoint(fl_exchanged_shares_list)\n",
    "\n",
    "        for i, client in enumerate(clients):\n",
    "            client_weights = []\n",
    "            for layer in layers_weights_smc.values():\n",
    "                client_weights.append(np.array(layer[i]))\n",
    "            fit_results[i].parameters = ndarrays_to_parameters(client_weights)\n",
    "\n",
    "        results = tuple(zip(clients, fit_results))\n",
    "\n",
    "        end_epoch = time.time()\n",
    "        elapsed = end_epoch - start_epoch\n",
    "\n",
    "        print(f\"ADDITIVE SHARING TIME ELAPSED {elapsed}\")\n",
    "\n",
    "        return super().aggregate_fit(rnd, results, failures)"
   ],
   "metadata": {
    "collapsed": false
   }
  },
  {
   "cell_type": "code",
   "execution_count": 34,
   "outputs": [],
   "source": [
    "def weighted_average(metrics: List[Tuple[int, Metrics]]) -> Metrics:\n",
    "    # Multiply accuracy of each client by number of examples used\n",
    "    accuracies = [num_examples * m[\"accuracy\"] for num_examples, m in metrics]\n",
    "    examples = [num_examples for num_examples, _ in metrics]\n",
    "\n",
    "    # Aggregate and return custom metric (weighted average)\n",
    "    return {\"accuracy\": sum(accuracies) / sum(examples)}\n",
    "\n",
    "\n",
    "# The `evaluate` function will be by Flower called after every round\n",
    "def evaluate(\n",
    "    server_round: int,\n",
    "    parameters: fl.common.NDArrays,\n",
    "    config: Dict[str, fl.common.Scalar],\n",
    ") -> Optional[Tuple[float, Dict[str, fl.common.Scalar]]]:\n",
    "    net = Net().to(DEVICE)\n",
    "    valloader = valloaders[0]\n",
    "\n",
    "    params_dict = zip(net.state_dict().keys(), parameters)\n",
    "    state_dict = OrderedDict({k: torch.Tensor(v) for k, v in params_dict})\n",
    "    net.load_state_dict(state_dict, strict=True)\n",
    "\n",
    "    loss, accuracy = test(net, valloader)\n",
    "    print(f\"ROUND {server_round} SERVER SIDE ACCURACY {accuracy}\")\n",
    "    return loss, {\"accuracy\": accuracy}"
   ],
   "metadata": {
    "collapsed": false
   }
  },
  {
   "cell_type": "code",
   "execution_count": 37,
   "outputs": [
    {
     "name": "stderr",
     "output_type": "stream",
     "text": [
      "INFO flower 2023-03-08 15:45:11,099 | app.py:140 | Starting Flower simulation, config: ServerConfig(num_rounds=10, round_timeout=None)\n",
      "2023-03-08 15:45:16,370\tINFO worker.py:1518 -- Started a local Ray instance.\n",
      "INFO flower 2023-03-08 15:45:19,474 | app.py:174 | Flower VCE: Ray initialized with resources: {'CPU': 4.0, 'object_store_memory': 2214467174.0, 'memory': 4428934350.0, 'node:127.0.0.1': 1.0}\n",
      "INFO flower 2023-03-08 15:45:19,475 | server.py:86 | Initializing global parameters\n",
      "INFO flower 2023-03-08 15:45:19,477 | server.py:270 | Requesting initial parameters from one random client\n",
      "INFO flower 2023-03-08 15:45:25,006 | server.py:274 | Received initial parameters from one random client\n",
      "INFO flower 2023-03-08 15:45:25,007 | server.py:88 | Evaluating initial parameters\n",
      "INFO flower 2023-03-08 15:45:25,355 | server.py:91 | initial parameters (loss, other metrics): 0.07367552161216735, {'accuracy': 0.116}\n",
      "INFO flower 2023-03-08 15:45:25,358 | server.py:101 | FL starting\n",
      "DEBUG flower 2023-03-08 15:45:25,359 | server.py:215 | fit_round 1: strategy sampled 5 clients (out of 5)\n"
     ]
    },
    {
     "name": "stdout",
     "output_type": "stream",
     "text": [
      "ROUND 0 SERVER SIDE ACCURACY 0.116\n",
      "\u001B[2m\u001B[36m(launch_and_fit pid=9664)\u001B[0m CLIENT :1 \n",
      "\u001B[2m\u001B[36m(launch_and_fit pid=9664)\u001B[0m TIME ELAPSED 8.62890350818634\n",
      "\u001B[2m\u001B[36m(launch_and_fit pid=15368)\u001B[0m CLIENT :3 \n",
      "\u001B[2m\u001B[36m(launch_and_fit pid=15368)\u001B[0m TIME ELAPSED 9.58100426197052\n",
      "\u001B[2m\u001B[36m(launch_and_fit pid=13612)\u001B[0m CLIENT :2 \n",
      "\u001B[2m\u001B[36m(launch_and_fit pid=13612)\u001B[0m TIME ELAPSED 9.52465546131134\n",
      "\u001B[2m\u001B[36m(launch_and_fit pid=9316)\u001B[0m CLIENT :5 \n",
      "\u001B[2m\u001B[36m(launch_and_fit pid=9316)\u001B[0m TIME ELAPSED 9.583497643470764\n"
     ]
    },
    {
     "name": "stderr",
     "output_type": "stream",
     "text": [
      "DEBUG flower 2023-03-08 15:46:01,041 | server.py:229 | fit_round 1 received 5 results and 0 failures\n",
      "WARNING flower 2023-03-08 15:46:01,058 | fedavg.py:242 | No fit_metrics_aggregation_fn provided\n"
     ]
    },
    {
     "name": "stdout",
     "output_type": "stream",
     "text": [
      "\u001B[2m\u001B[36m(launch_and_fit pid=9664)\u001B[0m CLIENT :4 \n",
      "\u001B[2m\u001B[36m(launch_and_fit pid=9664)\u001B[0m TIME ELAPSED 6.918647408485413\n"
     ]
    },
    {
     "name": "stderr",
     "output_type": "stream",
     "text": [
      "INFO flower 2023-03-08 15:46:01,431 | server.py:116 | fit progress: (1, 0.05744132351875305, {'accuracy': 0.414}, 36.07115330000033)\n",
      "DEBUG flower 2023-03-08 15:46:01,431 | server.py:165 | evaluate_round 1: strategy sampled 5 clients (out of 5)\n"
     ]
    },
    {
     "name": "stdout",
     "output_type": "stream",
     "text": [
      "ROUND 1 SERVER SIDE ACCURACY 0.414\n"
     ]
    },
    {
     "name": "stderr",
     "output_type": "stream",
     "text": [
      "DEBUG flower 2023-03-08 15:46:08,863 | server.py:179 | evaluate_round 1 received 5 results and 0 failures\n",
      "DEBUG flower 2023-03-08 15:46:08,864 | server.py:215 | fit_round 2: strategy sampled 5 clients (out of 5)\n"
     ]
    },
    {
     "name": "stdout",
     "output_type": "stream",
     "text": [
      "\u001B[2m\u001B[36m(launch_and_fit pid=13612)\u001B[0m CLIENT :4 \n",
      "\u001B[2m\u001B[36m(launch_and_fit pid=13612)\u001B[0m TIME ELAPSED 8.070461630821228\n",
      "\u001B[2m\u001B[36m(launch_and_fit pid=9664)\u001B[0m CLIENT :3 \n",
      "\u001B[2m\u001B[36m(launch_and_fit pid=9664)\u001B[0m TIME ELAPSED 8.10498857498169\n",
      "\u001B[2m\u001B[36m(launch_and_fit pid=15368)\u001B[0m CLIENT :5 \n",
      "\u001B[2m\u001B[36m(launch_and_fit pid=15368)\u001B[0m TIME ELAPSED 8.191389560699463\n",
      "\u001B[2m\u001B[36m(launch_and_fit pid=9316)\u001B[0m CLIENT :1 \n",
      "\u001B[2m\u001B[36m(launch_and_fit pid=9316)\u001B[0m TIME ELAPSED 8.151453852653503\n"
     ]
    },
    {
     "name": "stderr",
     "output_type": "stream",
     "text": [
      "DEBUG flower 2023-03-08 15:46:39,295 | server.py:229 | fit_round 2 received 5 results and 0 failures\n"
     ]
    },
    {
     "name": "stdout",
     "output_type": "stream",
     "text": [
      "\u001B[2m\u001B[36m(launch_and_fit pid=13612)\u001B[0m CLIENT :2 \n",
      "\u001B[2m\u001B[36m(launch_and_fit pid=13612)\u001B[0m TIME ELAPSED 4.433116912841797\n"
     ]
    },
    {
     "name": "stderr",
     "output_type": "stream",
     "text": [
      "INFO flower 2023-03-08 15:46:39,714 | server.py:116 | fit progress: (2, 0.045177886247634885, {'accuracy': 0.494}, 74.35488910000004)\n",
      "DEBUG flower 2023-03-08 15:46:39,716 | server.py:165 | evaluate_round 2: strategy sampled 5 clients (out of 5)\n"
     ]
    },
    {
     "name": "stdout",
     "output_type": "stream",
     "text": [
      "ROUND 2 SERVER SIDE ACCURACY 0.494\n"
     ]
    },
    {
     "name": "stderr",
     "output_type": "stream",
     "text": [
      "DEBUG flower 2023-03-08 15:46:48,441 | server.py:179 | evaluate_round 2 received 5 results and 0 failures\n",
      "DEBUG flower 2023-03-08 15:46:48,442 | server.py:215 | fit_round 3: strategy sampled 5 clients (out of 5)\n"
     ]
    },
    {
     "name": "stdout",
     "output_type": "stream",
     "text": [
      "\u001B[2m\u001B[36m(launch_and_fit pid=13612)\u001B[0m CLIENT :1 \n",
      "\u001B[2m\u001B[36m(launch_and_fit pid=13612)\u001B[0m TIME ELAPSED 8.045365333557129\n",
      "\u001B[2m\u001B[36m(launch_and_fit pid=15368)\u001B[0m CLIENT :3 \n",
      "\u001B[2m\u001B[36m(launch_and_fit pid=15368)\u001B[0m TIME ELAPSED 8.3991117477417\n",
      "\u001B[2m\u001B[36m(launch_and_fit pid=9664)\u001B[0m CLIENT :4 \n",
      "\u001B[2m\u001B[36m(launch_and_fit pid=9664)\u001B[0m TIME ELAPSED 8.386991500854492\n",
      "\u001B[2m\u001B[36m(launch_and_fit pid=9316)\u001B[0m CLIENT :5 \n",
      "\u001B[2m\u001B[36m(launch_and_fit pid=9316)\u001B[0m TIME ELAPSED 8.503927946090698\n"
     ]
    },
    {
     "name": "stderr",
     "output_type": "stream",
     "text": [
      "DEBUG flower 2023-03-08 15:47:18,986 | server.py:229 | fit_round 3 received 5 results and 0 failures\n"
     ]
    },
    {
     "name": "stdout",
     "output_type": "stream",
     "text": [
      "\u001B[2m\u001B[36m(launch_and_fit pid=13612)\u001B[0m CLIENT :2 \n",
      "\u001B[2m\u001B[36m(launch_and_fit pid=13612)\u001B[0m TIME ELAPSED 4.982373118400574\n"
     ]
    },
    {
     "name": "stderr",
     "output_type": "stream",
     "text": [
      "INFO flower 2023-03-08 15:47:19,364 | server.py:116 | fit progress: (3, 0.0421369491815567, {'accuracy': 0.536}, 114.00427860000036)\n",
      "DEBUG flower 2023-03-08 15:47:19,365 | server.py:165 | evaluate_round 3: strategy sampled 5 clients (out of 5)\n"
     ]
    },
    {
     "name": "stdout",
     "output_type": "stream",
     "text": [
      "ROUND 3 SERVER SIDE ACCURACY 0.536\n"
     ]
    },
    {
     "name": "stderr",
     "output_type": "stream",
     "text": [
      "DEBUG flower 2023-03-08 15:47:25,517 | server.py:179 | evaluate_round 3 received 5 results and 0 failures\n",
      "DEBUG flower 2023-03-08 15:47:25,518 | server.py:215 | fit_round 4: strategy sampled 5 clients (out of 5)\n"
     ]
    },
    {
     "name": "stdout",
     "output_type": "stream",
     "text": [
      "\u001B[2m\u001B[36m(launch_and_fit pid=13612)\u001B[0m CLIENT :5 \n",
      "\u001B[2m\u001B[36m(launch_and_fit pid=13612)\u001B[0m TIME ELAPSED 8.538710951805115\n",
      "\u001B[2m\u001B[36m(launch_and_fit pid=9664)\u001B[0m CLIENT :1 \n",
      "\u001B[2m\u001B[36m(launch_and_fit pid=9664)\u001B[0m TIME ELAPSED 8.651978850364685\n",
      "\u001B[2m\u001B[36m(launch_and_fit pid=9316)\u001B[0m CLIENT :3 \n",
      "\u001B[2m\u001B[36m(launch_and_fit pid=9316)\u001B[0m TIME ELAPSED 8.541778445243835\n",
      "\u001B[2m\u001B[36m(launch_and_fit pid=15368)\u001B[0m CLIENT :4 \n",
      "\u001B[2m\u001B[36m(launch_and_fit pid=15368)\u001B[0m TIME ELAPSED 8.588276386260986\n"
     ]
    },
    {
     "name": "stderr",
     "output_type": "stream",
     "text": [
      "DEBUG flower 2023-03-08 15:47:58,063 | server.py:229 | fit_round 4 received 5 results and 0 failures\n"
     ]
    },
    {
     "name": "stdout",
     "output_type": "stream",
     "text": [
      "\u001B[2m\u001B[36m(launch_and_fit pid=13612)\u001B[0m CLIENT :2 \n",
      "\u001B[2m\u001B[36m(launch_and_fit pid=13612)\u001B[0m TIME ELAPSED 4.96898353099823\n"
     ]
    },
    {
     "name": "stderr",
     "output_type": "stream",
     "text": [
      "INFO flower 2023-03-08 15:47:58,497 | server.py:116 | fit progress: (4, 0.03908089220523834, {'accuracy': 0.552}, 153.1371177000001)\n",
      "DEBUG flower 2023-03-08 15:47:58,498 | server.py:165 | evaluate_round 4: strategy sampled 5 clients (out of 5)\n"
     ]
    },
    {
     "name": "stdout",
     "output_type": "stream",
     "text": [
      "ROUND 4 SERVER SIDE ACCURACY 0.552\n"
     ]
    },
    {
     "name": "stderr",
     "output_type": "stream",
     "text": [
      "DEBUG flower 2023-03-08 15:48:04,593 | server.py:179 | evaluate_round 4 received 5 results and 0 failures\n",
      "DEBUG flower 2023-03-08 15:48:04,594 | server.py:215 | fit_round 5: strategy sampled 5 clients (out of 5)\n"
     ]
    },
    {
     "name": "stdout",
     "output_type": "stream",
     "text": [
      "\u001B[2m\u001B[36m(launch_and_fit pid=15368)\u001B[0m CLIENT :5 \n",
      "\u001B[2m\u001B[36m(launch_and_fit pid=15368)\u001B[0m TIME ELAPSED 8.343632102012634\n",
      "\u001B[2m\u001B[36m(launch_and_fit pid=13612)\u001B[0m CLIENT :1 \n",
      "\u001B[2m\u001B[36m(launch_and_fit pid=13612)\u001B[0m TIME ELAPSED 8.394599080085754\n",
      "\u001B[2m\u001B[36m(launch_and_fit pid=9316)\u001B[0m CLIENT :4 \n",
      "\u001B[2m\u001B[36m(launch_and_fit pid=9316)\u001B[0m TIME ELAPSED 8.52486789226532\n",
      "\u001B[2m\u001B[36m(launch_and_fit pid=9664)\u001B[0m CLIENT :2 \n",
      "\u001B[2m\u001B[36m(launch_and_fit pid=9664)\u001B[0m TIME ELAPSED 8.419968605041504\n"
     ]
    },
    {
     "name": "stderr",
     "output_type": "stream",
     "text": [
      "DEBUG flower 2023-03-08 15:48:35,680 | server.py:229 | fit_round 5 received 5 results and 0 failures\n"
     ]
    },
    {
     "name": "stdout",
     "output_type": "stream",
     "text": [
      "\u001B[2m\u001B[36m(launch_and_fit pid=15368)\u001B[0m CLIENT :3 \n",
      "\u001B[2m\u001B[36m(launch_and_fit pid=15368)\u001B[0m TIME ELAPSED 4.5480852127075195\n"
     ]
    },
    {
     "name": "stderr",
     "output_type": "stream",
     "text": [
      "INFO flower 2023-03-08 15:48:36,071 | server.py:116 | fit progress: (5, 0.037522343516349796, {'accuracy': 0.566}, 190.71157500000027)\n",
      "DEBUG flower 2023-03-08 15:48:36,072 | server.py:165 | evaluate_round 5: strategy sampled 5 clients (out of 5)\n"
     ]
    },
    {
     "name": "stdout",
     "output_type": "stream",
     "text": [
      "ROUND 5 SERVER SIDE ACCURACY 0.566\n"
     ]
    },
    {
     "name": "stderr",
     "output_type": "stream",
     "text": [
      "DEBUG flower 2023-03-08 15:48:42,347 | server.py:179 | evaluate_round 5 received 5 results and 0 failures\n",
      "DEBUG flower 2023-03-08 15:48:42,348 | server.py:215 | fit_round 6: strategy sampled 5 clients (out of 5)\n"
     ]
    },
    {
     "name": "stdout",
     "output_type": "stream",
     "text": [
      "\u001B[2m\u001B[36m(launch_and_fit pid=13612)\u001B[0m CLIENT :2 \n",
      "\u001B[2m\u001B[36m(launch_and_fit pid=13612)\u001B[0m TIME ELAPSED 8.622437357902527\n",
      "\u001B[2m\u001B[36m(launch_and_fit pid=9664)\u001B[0m CLIENT :1 \n",
      "\u001B[2m\u001B[36m(launch_and_fit pid=9664)\u001B[0m TIME ELAPSED 8.793893098831177\n",
      "\u001B[2m\u001B[36m(launch_and_fit pid=9316)\u001B[0m CLIENT :4 \n",
      "\u001B[2m\u001B[36m(launch_and_fit pid=9316)\u001B[0m TIME ELAPSED 8.697070598602295\n",
      "\u001B[2m\u001B[36m(launch_and_fit pid=15368)\u001B[0m CLIENT :3 \n",
      "\u001B[2m\u001B[36m(launch_and_fit pid=15368)\u001B[0m TIME ELAPSED 8.798912644386292\n"
     ]
    },
    {
     "name": "stderr",
     "output_type": "stream",
     "text": [
      "DEBUG flower 2023-03-08 15:49:14,262 | server.py:229 | fit_round 6 received 5 results and 0 failures\n"
     ]
    },
    {
     "name": "stdout",
     "output_type": "stream",
     "text": [
      "\u001B[2m\u001B[36m(launch_and_fit pid=13612)\u001B[0m CLIENT :5 \n",
      "\u001B[2m\u001B[36m(launch_and_fit pid=13612)\u001B[0m TIME ELAPSED 4.685855150222778\n"
     ]
    },
    {
     "name": "stderr",
     "output_type": "stream",
     "text": [
      "INFO flower 2023-03-08 15:49:14,646 | server.py:116 | fit progress: (6, 0.03672231686115265, {'accuracy': 0.582}, 229.28673979999985)\n",
      "DEBUG flower 2023-03-08 15:49:14,647 | server.py:165 | evaluate_round 6: strategy sampled 5 clients (out of 5)\n"
     ]
    },
    {
     "name": "stdout",
     "output_type": "stream",
     "text": [
      "ROUND 6 SERVER SIDE ACCURACY 0.582\n"
     ]
    },
    {
     "name": "stderr",
     "output_type": "stream",
     "text": [
      "DEBUG flower 2023-03-08 15:49:20,949 | server.py:179 | evaluate_round 6 received 5 results and 0 failures\n",
      "DEBUG flower 2023-03-08 15:49:20,950 | server.py:215 | fit_round 7: strategy sampled 5 clients (out of 5)\n"
     ]
    },
    {
     "name": "stdout",
     "output_type": "stream",
     "text": [
      "\u001B[2m\u001B[36m(launch_and_fit pid=13612)\u001B[0m CLIENT :3 \n",
      "\u001B[2m\u001B[36m(launch_and_fit pid=13612)\u001B[0m TIME ELAPSED 8.65342664718628\n",
      "\u001B[2m\u001B[36m(launch_and_fit pid=9664)\u001B[0m CLIENT :1 \n",
      "\u001B[2m\u001B[36m(launch_and_fit pid=9664)\u001B[0m TIME ELAPSED 8.69685161113739\n",
      "\u001B[2m\u001B[36m(launch_and_fit pid=9316)\u001B[0m CLIENT :5 \n",
      "\u001B[2m\u001B[36m(launch_and_fit pid=9316)\u001B[0m TIME ELAPSED 8.728748321533203\n",
      "\u001B[2m\u001B[36m(launch_and_fit pid=15368)\u001B[0m CLIENT :2 \n",
      "\u001B[2m\u001B[36m(launch_and_fit pid=15368)\u001B[0m TIME ELAPSED 8.65935206413269\n"
     ]
    },
    {
     "name": "stderr",
     "output_type": "stream",
     "text": [
      "DEBUG flower 2023-03-08 15:49:52,844 | server.py:229 | fit_round 7 received 5 results and 0 failures\n"
     ]
    },
    {
     "name": "stdout",
     "output_type": "stream",
     "text": [
      "\u001B[2m\u001B[36m(launch_and_fit pid=13612)\u001B[0m CLIENT :4 \n",
      "\u001B[2m\u001B[36m(launch_and_fit pid=13612)\u001B[0m TIME ELAPSED 4.624445557594299\n"
     ]
    },
    {
     "name": "stderr",
     "output_type": "stream",
     "text": [
      "INFO flower 2023-03-08 15:49:53,225 | server.py:116 | fit progress: (7, 0.03556534498929977, {'accuracy': 0.615}, 267.86440310000035)\n",
      "DEBUG flower 2023-03-08 15:49:53,225 | server.py:165 | evaluate_round 7: strategy sampled 5 clients (out of 5)\n"
     ]
    },
    {
     "name": "stdout",
     "output_type": "stream",
     "text": [
      "ROUND 7 SERVER SIDE ACCURACY 0.615\n"
     ]
    },
    {
     "name": "stderr",
     "output_type": "stream",
     "text": [
      "DEBUG flower 2023-03-08 15:49:59,525 | server.py:179 | evaluate_round 7 received 5 results and 0 failures\n",
      "DEBUG flower 2023-03-08 15:49:59,526 | server.py:215 | fit_round 8: strategy sampled 5 clients (out of 5)\n"
     ]
    },
    {
     "name": "stdout",
     "output_type": "stream",
     "text": [
      "\u001B[2m\u001B[36m(launch_and_fit pid=9664)\u001B[0m CLIENT :5 \n",
      "\u001B[2m\u001B[36m(launch_and_fit pid=9664)\u001B[0m TIME ELAPSED 8.905970096588135\n",
      "\u001B[2m\u001B[36m(launch_and_fit pid=9316)\u001B[0m CLIENT :3 \n",
      "\u001B[2m\u001B[36m(launch_and_fit pid=9316)\u001B[0m TIME ELAPSED 9.101945161819458\n",
      "\u001B[2m\u001B[36m(launch_and_fit pid=15368)\u001B[0m CLIENT :4 \n",
      "\u001B[2m\u001B[36m(launch_and_fit pid=15368)\u001B[0m TIME ELAPSED 8.928855895996094\n",
      "\u001B[2m\u001B[36m(launch_and_fit pid=13612)\u001B[0m CLIENT :2 \n",
      "\u001B[2m\u001B[36m(launch_and_fit pid=13612)\u001B[0m TIME ELAPSED 8.928356289863586\n"
     ]
    },
    {
     "name": "stderr",
     "output_type": "stream",
     "text": [
      "DEBUG flower 2023-03-08 15:50:33,751 | server.py:229 | fit_round 8 received 5 results and 0 failures\n"
     ]
    },
    {
     "name": "stdout",
     "output_type": "stream",
     "text": [
      "\u001B[2m\u001B[36m(launch_and_fit pid=9664)\u001B[0m CLIENT :1 \n",
      "\u001B[2m\u001B[36m(launch_and_fit pid=9664)\u001B[0m TIME ELAPSED 5.717772603034973\n"
     ]
    },
    {
     "name": "stderr",
     "output_type": "stream",
     "text": [
      "INFO flower 2023-03-08 15:50:34,136 | server.py:116 | fit progress: (8, 0.034846886694431305, {'accuracy': 0.616}, 308.77668210000047)\n",
      "DEBUG flower 2023-03-08 15:50:34,138 | server.py:165 | evaluate_round 8: strategy sampled 5 clients (out of 5)\n"
     ]
    },
    {
     "name": "stdout",
     "output_type": "stream",
     "text": [
      "ROUND 8 SERVER SIDE ACCURACY 0.616\n"
     ]
    },
    {
     "name": "stderr",
     "output_type": "stream",
     "text": [
      "DEBUG flower 2023-03-08 15:50:40,458 | server.py:179 | evaluate_round 8 received 5 results and 0 failures\n",
      "DEBUG flower 2023-03-08 15:50:40,462 | server.py:215 | fit_round 9: strategy sampled 5 clients (out of 5)\n"
     ]
    },
    {
     "name": "stdout",
     "output_type": "stream",
     "text": [
      "\u001B[2m\u001B[36m(launch_and_fit pid=15368)\u001B[0m CLIENT :2 \n",
      "\u001B[2m\u001B[36m(launch_and_fit pid=15368)\u001B[0m TIME ELAPSED 8.277792930603027\n",
      "\u001B[2m\u001B[36m(launch_and_fit pid=9664)\u001B[0m CLIENT :1 \n",
      "\u001B[2m\u001B[36m(launch_and_fit pid=9664)\u001B[0m TIME ELAPSED 8.648167848587036\n",
      "\u001B[2m\u001B[36m(launch_and_fit pid=9316)\u001B[0m CLIENT :5 \n",
      "\u001B[2m\u001B[36m(launch_and_fit pid=9316)\u001B[0m TIME ELAPSED 8.632213950157166\n",
      "\u001B[2m\u001B[36m(launch_and_fit pid=13612)\u001B[0m CLIENT :3 \n",
      "\u001B[2m\u001B[36m(launch_and_fit pid=13612)\u001B[0m TIME ELAPSED 8.693063020706177\n"
     ]
    },
    {
     "name": "stderr",
     "output_type": "stream",
     "text": [
      "DEBUG flower 2023-03-08 15:51:11,231 | server.py:229 | fit_round 9 received 5 results and 0 failures\n"
     ]
    },
    {
     "name": "stdout",
     "output_type": "stream",
     "text": [
      "\u001B[2m\u001B[36m(launch_and_fit pid=15368)\u001B[0m CLIENT :4 \n",
      "\u001B[2m\u001B[36m(launch_and_fit pid=15368)\u001B[0m TIME ELAPSED 5.052655220031738\n"
     ]
    },
    {
     "name": "stderr",
     "output_type": "stream",
     "text": [
      "INFO flower 2023-03-08 15:51:11,636 | server.py:116 | fit progress: (9, 0.03504034513235092, {'accuracy': 0.618}, 346.2759649999998)\n",
      "DEBUG flower 2023-03-08 15:51:11,637 | server.py:165 | evaluate_round 9: strategy sampled 5 clients (out of 5)\n"
     ]
    },
    {
     "name": "stdout",
     "output_type": "stream",
     "text": [
      "ROUND 9 SERVER SIDE ACCURACY 0.618\n"
     ]
    },
    {
     "name": "stderr",
     "output_type": "stream",
     "text": [
      "DEBUG flower 2023-03-08 15:51:17,783 | server.py:179 | evaluate_round 9 received 5 results and 0 failures\n",
      "DEBUG flower 2023-03-08 15:51:17,784 | server.py:215 | fit_round 10: strategy sampled 5 clients (out of 5)\n"
     ]
    },
    {
     "name": "stdout",
     "output_type": "stream",
     "text": [
      "\u001B[2m\u001B[36m(launch_and_fit pid=9664)\u001B[0m CLIENT :3 \n",
      "\u001B[2m\u001B[36m(launch_and_fit pid=9664)\u001B[0m TIME ELAPSED 8.570514440536499\n",
      "\u001B[2m\u001B[36m(launch_and_fit pid=15368)\u001B[0m CLIENT :5 \n",
      "\u001B[2m\u001B[36m(launch_and_fit pid=15368)\u001B[0m TIME ELAPSED 8.644383192062378\n",
      "\u001B[2m\u001B[36m(launch_and_fit pid=13612)\u001B[0m CLIENT :2 \n",
      "\u001B[2m\u001B[36m(launch_and_fit pid=13612)\u001B[0m TIME ELAPSED 8.741379857063293\n",
      "\u001B[2m\u001B[36m(launch_and_fit pid=9316)\u001B[0m CLIENT :1 \n",
      "\u001B[2m\u001B[36m(launch_and_fit pid=9316)\u001B[0m TIME ELAPSED 8.65712022781372\n"
     ]
    },
    {
     "name": "stderr",
     "output_type": "stream",
     "text": [
      "DEBUG flower 2023-03-08 15:51:50,343 | server.py:229 | fit_round 10 received 5 results and 0 failures\n"
     ]
    },
    {
     "name": "stdout",
     "output_type": "stream",
     "text": [
      "\u001B[2m\u001B[36m(launch_and_fit pid=9664)\u001B[0m CLIENT :4 \n",
      "\u001B[2m\u001B[36m(launch_and_fit pid=9664)\u001B[0m TIME ELAPSED 4.811644792556763\n"
     ]
    },
    {
     "name": "stderr",
     "output_type": "stream",
     "text": [
      "INFO flower 2023-03-08 15:51:50,863 | server.py:116 | fit progress: (10, 0.03455497491359711, {'accuracy': 0.624}, 385.5036381)\n",
      "DEBUG flower 2023-03-08 15:51:50,864 | server.py:165 | evaluate_round 10: strategy sampled 5 clients (out of 5)\n"
     ]
    },
    {
     "name": "stdout",
     "output_type": "stream",
     "text": [
      "ROUND 10 SERVER SIDE ACCURACY 0.624\n"
     ]
    },
    {
     "name": "stderr",
     "output_type": "stream",
     "text": [
      "DEBUG flower 2023-03-08 15:51:57,365 | server.py:179 | evaluate_round 10 received 5 results and 0 failures\n",
      "INFO flower 2023-03-08 15:51:57,367 | server.py:144 | FL finished in 392.00707820000025\n",
      "INFO flower 2023-03-08 15:51:57,368 | app.py:192 | app_fit: losses_distributed [(1, 0.05741369733810424), (2, 0.045469286775588987), (3, 0.04195360206365585), (4, 0.03944564276337624), (5, 0.03794898006916046), (6, 0.036901649141311645), (7, 0.036060101568698884), (8, 0.03563987969458103), (9, 0.03543092755675316), (10, 0.035200512886047364)]\n",
      "INFO flower 2023-03-08 15:51:57,370 | app.py:193 | app_fit: metrics_distributed {'accuracy': [(1, 0.4082), (2, 0.4958), (3, 0.5298), (4, 0.561), (5, 0.5795999999999999), (6, 0.59), (7, 0.6056000000000001), (8, 0.6136000000000001), (9, 0.6188), (10, 0.6202)]}\n",
      "INFO flower 2023-03-08 15:51:57,371 | app.py:194 | app_fit: losses_centralized [(0, 0.07367552161216735), (1, 0.05744132351875305), (2, 0.045177886247634885), (3, 0.0421369491815567), (4, 0.03908089220523834), (5, 0.037522343516349796), (6, 0.03672231686115265), (7, 0.03556534498929977), (8, 0.034846886694431305), (9, 0.03504034513235092), (10, 0.03455497491359711)]\n",
      "INFO flower 2023-03-08 15:51:57,372 | app.py:195 | app_fit: metrics_centralized {'accuracy': [(0, 0.116), (1, 0.414), (2, 0.494), (3, 0.536), (4, 0.552), (5, 0.566), (6, 0.582), (7, 0.615), (8, 0.616), (9, 0.618), (10, 0.624)]}\n"
     ]
    },
    {
     "data": {
      "text/plain": "History (loss, distributed):\n\tround 1: 0.05741369733810424\n\tround 2: 0.045469286775588987\n\tround 3: 0.04195360206365585\n\tround 4: 0.03944564276337624\n\tround 5: 0.03794898006916046\n\tround 6: 0.036901649141311645\n\tround 7: 0.036060101568698884\n\tround 8: 0.03563987969458103\n\tround 9: 0.03543092755675316\n\tround 10: 0.035200512886047364\nHistory (loss, centralized):\n\tround 0: 0.07367552161216735\n\tround 1: 0.05744132351875305\n\tround 2: 0.045177886247634885\n\tround 3: 0.0421369491815567\n\tround 4: 0.03908089220523834\n\tround 5: 0.037522343516349796\n\tround 6: 0.03672231686115265\n\tround 7: 0.03556534498929977\n\tround 8: 0.034846886694431305\n\tround 9: 0.03504034513235092\n\tround 10: 0.03455497491359711\nHistory (metrics, distributed):\n{'accuracy': [(1, 0.4082), (2, 0.4958), (3, 0.5298), (4, 0.561), (5, 0.5795999999999999), (6, 0.59), (7, 0.6056000000000001), (8, 0.6136000000000001), (9, 0.6188), (10, 0.6202)]}History (metrics, centralized):\n{'accuracy': [(0, 0.116), (1, 0.414), (2, 0.494), (3, 0.536), (4, 0.552), (5, 0.566), (6, 0.582), (7, 0.615), (8, 0.616), (9, 0.618), (10, 0.624)]}"
     },
     "execution_count": 37,
     "metadata": {},
     "output_type": "execute_result"
    }
   ],
   "source": [
    "# Create FedAvg strategy\n",
    "strategy = FedAvg(\n",
    "    fraction_fit=1.0,  # Sample 100% of available clients for training\n",
    "    fraction_evaluate=0.5,  # Sample 50% of available clients for evaluation\n",
    "    min_fit_clients=5,  # Never sample less than 5 clients for training\n",
    "    min_evaluate_clients=5,  # Never sample less than 5 clients for evaluation\n",
    "    min_available_clients=5,  # Wait until 5 clients are available\n",
    "    evaluate_metrics_aggregation_fn=weighted_average,  # pass the metric aggregation function\n",
    "    evaluate_fn=evaluate,\n",
    ")\n",
    "\n",
    "# Start simulation\n",
    "fl.simulation.start_simulation(\n",
    "    client_fn=client_fn,\n",
    "    num_clients=NUM_CLIENTS,\n",
    "    config=fl.server.ServerConfig(num_rounds=10),\n",
    "    strategy=strategy,\n",
    ")"
   ],
   "metadata": {
    "collapsed": false
   }
  },
  {
   "cell_type": "code",
   "execution_count": null,
   "outputs": [
    {
     "name": "stderr",
     "output_type": "stream",
     "text": [
      "INFO flower 2023-03-08 18:07:07,622 | app.py:140 | Starting Flower simulation, config: ServerConfig(num_rounds=10, round_timeout=None)\n",
      "2023-03-08 18:07:13,649\tINFO worker.py:1518 -- Started a local Ray instance.\n",
      "INFO flower 2023-03-08 18:07:17,832 | app.py:174 | Flower VCE: Ray initialized with resources: {'node:127.0.0.1': 1.0, 'object_store_memory': 1923488563.0, 'CPU': 4.0, 'memory': 3846977127.0}\n",
      "INFO flower 2023-03-08 18:07:17,833 | server.py:86 | Initializing global parameters\n",
      "INFO flower 2023-03-08 18:07:17,834 | server.py:270 | Requesting initial parameters from one random client\n",
      "INFO flower 2023-03-08 18:07:23,605 | server.py:274 | Received initial parameters from one random client\n",
      "INFO flower 2023-03-08 18:07:23,606 | server.py:88 | Evaluating initial parameters\n",
      "INFO flower 2023-03-08 18:07:23,973 | server.py:91 | initial parameters (loss, other metrics): 0.07366065049171448, {'accuracy': 0.1}\n",
      "INFO flower 2023-03-08 18:07:23,973 | server.py:101 | FL starting\n",
      "DEBUG flower 2023-03-08 18:07:23,974 | server.py:215 | fit_round 1: strategy sampled 5 clients (out of 5)\n"
     ]
    },
    {
     "name": "stdout",
     "output_type": "stream",
     "text": [
      "ROUND 0 SERVER SIDE ACCURACY 0.1\n",
      "\u001B[2m\u001B[36m(launch_and_fit pid=20428)\u001B[0m CLIENT :2 \n",
      "\u001B[2m\u001B[36m(launch_and_fit pid=20428)\u001B[0m TIME ELAPSED 8.539761424064636\n",
      "\u001B[2m\u001B[36m(launch_and_fit pid=8220)\u001B[0m CLIENT :5 \n",
      "\u001B[2m\u001B[36m(launch_and_fit pid=8220)\u001B[0m TIME ELAPSED 8.534636497497559\n",
      "\u001B[2m\u001B[36m(launch_and_fit pid=6768)\u001B[0m CLIENT :3 \n",
      "\u001B[2m\u001B[36m(launch_and_fit pid=6768)\u001B[0m TIME ELAPSED 8.555080652236938\n",
      "\u001B[2m\u001B[36m(launch_and_fit pid=17540)\u001B[0m CLIENT :4 \n",
      "\u001B[2m\u001B[36m(launch_and_fit pid=17540)\u001B[0m TIME ELAPSED 8.613381743431091\n"
     ]
    },
    {
     "name": "stderr",
     "output_type": "stream",
     "text": [
      "DEBUG flower 2023-03-08 18:08:00,967 | server.py:229 | fit_round 1 received 5 results and 0 failures\n"
     ]
    },
    {
     "name": "stdout",
     "output_type": "stream",
     "text": [
      "\u001B[2m\u001B[36m(launch_and_fit pid=20428)\u001B[0m CLIENT :1 \n",
      "\u001B[2m\u001B[36m(launch_and_fit pid=20428)\u001B[0m TIME ELAPSED 7.361392259597778\n"
     ]
    },
    {
     "name": "stderr",
     "output_type": "stream",
     "text": [
      "WARNING flower 2023-03-08 18:08:02,632 | fedavg.py:242 | No fit_metrics_aggregation_fn provided\n"
     ]
    },
    {
     "name": "stdout",
     "output_type": "stream",
     "text": [
      "ADDITIVE SHARING TIME ELAPSED 1.6518750190734863\n"
     ]
    },
    {
     "name": "stderr",
     "output_type": "stream",
     "text": [
      "INFO flower 2023-03-08 18:08:02,983 | server.py:116 | fit progress: (1, nan, {'accuracy': 0.101}, 39.010500799999136)\n",
      "DEBUG flower 2023-03-08 18:08:02,985 | server.py:165 | evaluate_round 1: strategy sampled 5 clients (out of 5)\n"
     ]
    },
    {
     "name": "stdout",
     "output_type": "stream",
     "text": [
      "ROUND 1 SERVER SIDE ACCURACY 0.101\n"
     ]
    },
    {
     "name": "stderr",
     "output_type": "stream",
     "text": [
      "DEBUG flower 2023-03-08 18:08:11,298 | server.py:179 | evaluate_round 1 received 5 results and 0 failures\n",
      "DEBUG flower 2023-03-08 18:08:11,300 | server.py:215 | fit_round 2: strategy sampled 5 clients (out of 5)\n"
     ]
    },
    {
     "name": "stdout",
     "output_type": "stream",
     "text": [
      "\u001B[2m\u001B[36m(launch_and_fit pid=20428)\u001B[0m CLIENT :1 \n",
      "\u001B[2m\u001B[36m(launch_and_fit pid=20428)\u001B[0m TIME ELAPSED 6.980559587478638\n",
      "\u001B[2m\u001B[36m(launch_and_fit pid=8220)\u001B[0m CLIENT :4 \n",
      "\u001B[2m\u001B[36m(launch_and_fit pid=8220)\u001B[0m TIME ELAPSED 7.3387287855148315\n",
      "\u001B[2m\u001B[36m(launch_and_fit pid=6768)\u001B[0m CLIENT :3 \n",
      "\u001B[2m\u001B[36m(launch_and_fit pid=6768)\u001B[0m TIME ELAPSED 7.409137845039368\n",
      "\u001B[2m\u001B[36m(launch_and_fit pid=17540)\u001B[0m CLIENT :5 \n",
      "\u001B[2m\u001B[36m(launch_and_fit pid=17540)\u001B[0m TIME ELAPSED 7.385201096534729\n"
     ]
    },
    {
     "name": "stderr",
     "output_type": "stream",
     "text": [
      "DEBUG flower 2023-03-08 18:08:38,729 | server.py:229 | fit_round 2 received 5 results and 0 failures\n"
     ]
    },
    {
     "name": "stdout",
     "output_type": "stream",
     "text": [
      "\u001B[2m\u001B[36m(launch_and_fit pid=20428)\u001B[0m CLIENT :2 \n",
      "\u001B[2m\u001B[36m(launch_and_fit pid=20428)\u001B[0m TIME ELAPSED 4.851812481880188\n",
      "ADDITIVE SHARING TIME ELAPSED 2.0103626251220703\n"
     ]
    },
    {
     "name": "stderr",
     "output_type": "stream",
     "text": [
      "INFO flower 2023-03-08 18:08:41,089 | server.py:116 | fit progress: (2, nan, {'accuracy': 0.101}, 77.11544729999878)\n",
      "DEBUG flower 2023-03-08 18:08:41,090 | server.py:165 | evaluate_round 2: strategy sampled 5 clients (out of 5)\n"
     ]
    },
    {
     "name": "stdout",
     "output_type": "stream",
     "text": [
      "ROUND 2 SERVER SIDE ACCURACY 0.101\n"
     ]
    },
    {
     "name": "stderr",
     "output_type": "stream",
     "text": [
      "DEBUG flower 2023-03-08 18:08:47,129 | server.py:179 | evaluate_round 2 received 5 results and 0 failures\n",
      "DEBUG flower 2023-03-08 18:08:47,131 | server.py:215 | fit_round 3: strategy sampled 5 clients (out of 5)\n"
     ]
    },
    {
     "name": "stdout",
     "output_type": "stream",
     "text": [
      "\u001B[2m\u001B[36m(launch_and_fit pid=6768)\u001B[0m CLIENT :4 \n",
      "\u001B[2m\u001B[36m(launch_and_fit pid=6768)\u001B[0m TIME ELAPSED 8.35553753376007\n",
      "\u001B[2m\u001B[36m(launch_and_fit pid=17540)\u001B[0m CLIENT :2 \n",
      "\u001B[2m\u001B[36m(launch_and_fit pid=17540)\u001B[0m TIME ELAPSED 8.260939836502075\n",
      "\u001B[2m\u001B[36m(launch_and_fit pid=8220)\u001B[0m CLIENT :5 \n",
      "\u001B[2m\u001B[36m(launch_and_fit pid=8220)\u001B[0m TIME ELAPSED 8.321930766105652\n",
      "\u001B[2m\u001B[36m(launch_and_fit pid=20428)\u001B[0m CLIENT :3 \n",
      "\u001B[2m\u001B[36m(launch_and_fit pid=20428)\u001B[0m TIME ELAPSED 8.401007294654846\n"
     ]
    },
    {
     "name": "stderr",
     "output_type": "stream",
     "text": [
      "DEBUG flower 2023-03-08 18:09:18,719 | server.py:229 | fit_round 3 received 5 results and 0 failures\n"
     ]
    },
    {
     "name": "stdout",
     "output_type": "stream",
     "text": [
      "\u001B[2m\u001B[36m(launch_and_fit pid=17540)\u001B[0m CLIENT :1 \n",
      "\u001B[2m\u001B[36m(launch_and_fit pid=17540)\u001B[0m TIME ELAPSED 4.847293496131897\n",
      "ADDITIVE SHARING TIME ELAPSED 3.0715062618255615\n"
     ]
    },
    {
     "name": "stderr",
     "output_type": "stream",
     "text": [
      "INFO flower 2023-03-08 18:09:22,312 | server.py:116 | fit progress: (3, nan, {'accuracy': 0.101}, 118.33845419999852)\n",
      "DEBUG flower 2023-03-08 18:09:22,313 | server.py:165 | evaluate_round 3: strategy sampled 5 clients (out of 5)\n"
     ]
    },
    {
     "name": "stdout",
     "output_type": "stream",
     "text": [
      "ROUND 3 SERVER SIDE ACCURACY 0.101\n"
     ]
    },
    {
     "name": "stderr",
     "output_type": "stream",
     "text": [
      "DEBUG flower 2023-03-08 18:09:29,627 | server.py:179 | evaluate_round 3 received 5 results and 0 failures\n",
      "DEBUG flower 2023-03-08 18:09:29,628 | server.py:215 | fit_round 4: strategy sampled 5 clients (out of 5)\n"
     ]
    },
    {
     "name": "stdout",
     "output_type": "stream",
     "text": [
      "\u001B[2m\u001B[36m(launch_and_fit pid=8220)\u001B[0m CLIENT :5 \n",
      "\u001B[2m\u001B[36m(launch_and_fit pid=8220)\u001B[0m TIME ELAPSED 8.332791686058044\n",
      "\u001B[2m\u001B[36m(launch_and_fit pid=17540)\u001B[0m CLIENT :1 \n",
      "\u001B[2m\u001B[36m(launch_and_fit pid=17540)\u001B[0m TIME ELAPSED 8.941132545471191\n",
      "\u001B[2m\u001B[36m(launch_and_fit pid=6768)\u001B[0m CLIENT :3 \n",
      "\u001B[2m\u001B[36m(launch_and_fit pid=6768)\u001B[0m TIME ELAPSED 8.930445790290833\n",
      "\u001B[2m\u001B[36m(launch_and_fit pid=20428)\u001B[0m CLIENT :4 \n",
      "\u001B[2m\u001B[36m(launch_and_fit pid=20428)\u001B[0m TIME ELAPSED 8.962858080863953\n"
     ]
    },
    {
     "name": "stderr",
     "output_type": "stream",
     "text": [
      "DEBUG flower 2023-03-08 18:10:01,903 | server.py:229 | fit_round 4 received 5 results and 0 failures\n"
     ]
    },
    {
     "name": "stdout",
     "output_type": "stream",
     "text": [
      "\u001B[2m\u001B[36m(launch_and_fit pid=8220)\u001B[0m CLIENT :2 \n",
      "\u001B[2m\u001B[36m(launch_and_fit pid=8220)\u001B[0m TIME ELAPSED 5.68003237247467\n",
      "ADDITIVE SHARING TIME ELAPSED 3.0120198726654053\n"
     ]
    },
    {
     "name": "stderr",
     "output_type": "stream",
     "text": [
      "INFO flower 2023-03-08 18:10:05,303 | server.py:116 | fit progress: (4, nan, {'accuracy': 0.101}, 161.32972159999917)\n",
      "DEBUG flower 2023-03-08 18:10:05,304 | server.py:165 | evaluate_round 4: strategy sampled 5 clients (out of 5)\n"
     ]
    },
    {
     "name": "stdout",
     "output_type": "stream",
     "text": [
      "ROUND 4 SERVER SIDE ACCURACY 0.101\n"
     ]
    },
    {
     "name": "stderr",
     "output_type": "stream",
     "text": [
      "DEBUG flower 2023-03-08 18:10:14,394 | server.py:179 | evaluate_round 4 received 5 results and 0 failures\n",
      "DEBUG flower 2023-03-08 18:10:14,396 | server.py:215 | fit_round 5: strategy sampled 5 clients (out of 5)\n"
     ]
    }
   ],
   "source": [
    "# Create FedAvgSmc strategy\n",
    "strategy = FedAvgSmc(\n",
    "    fraction_fit=1.0,  # Sample 100% of available clients for training\n",
    "    fraction_evaluate=0.5,  # Sample 50% of available clients for evaluation\n",
    "    min_fit_clients=5,  # Never sample less than 5 clients for training\n",
    "    min_evaluate_clients=5,  # Never sample less than 5 clients for evaluation\n",
    "    min_available_clients=5,  # Wait until 5 clients are available\n",
    "    evaluate_metrics_aggregation_fn=weighted_average,\n",
    "    evaluate_fn=evaluate,\n",
    ")\n",
    "\n",
    "# Start simulation\n",
    "fl.simulation.start_simulation(\n",
    "    client_fn=client_fn,\n",
    "    num_clients=NUM_CLIENTS,\n",
    "    config=fl.server.ServerConfig(num_rounds=10),\n",
    "    strategy=strategy,\n",
    ")"
   ],
   "metadata": {
    "collapsed": false,
    "pycharm": {
     "is_executing": true
    }
   }
  }
 ],
 "metadata": {
  "kernelspec": {
   "display_name": "Python 3",
   "language": "python",
   "name": "python3"
  },
  "language_info": {
   "codemirror_mode": {
    "name": "ipython",
    "version": 2
   },
   "file_extension": ".py",
   "mimetype": "text/x-python",
   "name": "python",
   "nbconvert_exporter": "python",
   "pygments_lexer": "ipython2",
   "version": "2.7.6"
  }
 },
 "nbformat": 4,
 "nbformat_minor": 0
}
