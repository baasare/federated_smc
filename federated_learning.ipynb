{
 "cells": [
  {
   "cell_type": "markdown",
   "source": [
    "# Centralized Learning"
   ],
   "metadata": {
    "collapsed": false
   }
  },
  {
   "cell_type": "code",
   "execution_count": 23,
   "outputs": [
    {
     "name": "stdout",
     "output_type": "stream",
     "text": [
      "Training on cpu using PyTorch 1.13.1+cpu and Flower 1.1.0\n"
     ]
    }
   ],
   "source": [
    "from collections import OrderedDict\n",
    "from typing import List, Tuple\n",
    "import time\n",
    "import flwr as fl\n",
    "import numpy as np\n",
    "import matplotlib.pyplot as plt\n",
    "import torch\n",
    "import torch.nn as nn\n",
    "import torch.nn.functional as F\n",
    "from flwr.server.strategy import FedAvg\n",
    "from torchvision.models._api import Weights\n",
    "from torchvision.transforms import transforms\n",
    "from flwr.common import Metrics, parameters_to_ndarrays, ndarrays_to_parameters, FitRes\n",
    "from torch.utils.data import DataLoader, random_split\n",
    "from torchvision.datasets import CIFAR10\n",
    "\n",
    "from tinysmpc import VirtualMachine, PrivateScalar\n",
    "from tinysmpc.fixed_point import fixed_point, float_point\n",
    "\n",
    "DEVICE = torch.device(\"cpu\")  # Try \"cuda\" to train on GPU\n",
    "print(f\"Training on {DEVICE} using PyTorch {torch.__version__} and Flower {fl.__version__}\")"
   ],
   "metadata": {
    "collapsed": false
   }
  },
  {
   "cell_type": "code",
   "execution_count": 24,
   "outputs": [],
   "source": [
    "CLASSES = ('plane', 'car', 'bird', 'cat', 'deer', 'dog', 'frog', 'horse', 'ship', 'truck')\n",
    "NUM_CLIENTS = 5"
   ],
   "metadata": {
    "collapsed": false
   }
  },
  {
   "cell_type": "code",
   "execution_count": 25,
   "outputs": [
    {
     "name": "stdout",
     "output_type": "stream",
     "text": [
      "Train Size 50000\n",
      "Partition Size 10000\n",
      "Test Size 10000\n"
     ]
    }
   ],
   "source": [
    "\n",
    "BATCH_SIZE = 32\n",
    "\n",
    "\n",
    "def load_datasets():\n",
    "    # Download and transform CIFAR-10 (train and test)\n",
    "    transform = transforms.Compose(\n",
    "        [transforms.ToTensor(), transforms.Normalize((0.5, 0.5, 0.5), (0.5, 0.5, 0.5))]\n",
    "    )\n",
    "    trainset = CIFAR10(\"./dataset\", train=True, download=False, transform=transform)\n",
    "    testset = CIFAR10(\"./dataset\", train=False, download=False, transform=transform)\n",
    "\n",
    "    # Split training set into 10 partitions to simulate the individual dataset\n",
    "    partition_size = len(trainset) // NUM_CLIENTS\n",
    "    print(f\"Train Size {len(trainset)}\")\n",
    "    print(f\"Partition Size {partition_size}\")\n",
    "    print(f\"Test Size {len(testset)}\")\n",
    "    lengths = [partition_size] * NUM_CLIENTS\n",
    "    datasets = random_split(trainset, lengths, torch.Generator().manual_seed(42))\n",
    "\n",
    "    # Split each partition into train/val and create DataLoader\n",
    "    trainloaders = []\n",
    "    valloaders = []\n",
    "    for ds in datasets:\n",
    "        len_val = len(ds) // 10  # 10 % validation set\n",
    "        len_train = len(ds) - len_val\n",
    "        lengths = [len_train, len_val]\n",
    "        ds_train, ds_val = random_split(ds, lengths, torch.Generator().manual_seed(42))\n",
    "        trainloaders.append(DataLoader(ds_train, batch_size=BATCH_SIZE, shuffle=True))\n",
    "        valloaders.append(DataLoader(ds_val, batch_size=BATCH_SIZE))\n",
    "    testloader = DataLoader(testset, batch_size=BATCH_SIZE)\n",
    "    return trainloaders, valloaders, testloader\n",
    "\n",
    "\n",
    "trainloaders, valloaders, testloader = load_datasets()"
   ],
   "metadata": {
    "collapsed": false
   }
  },
  {
   "cell_type": "code",
   "execution_count": null,
   "outputs": [],
   "source": [
    "images, labels = next(iter(trainloaders[0]))\n",
    "\n",
    "# Reshape and convert images to a NumPy array\n",
    "# matplotlib requires images with the shape (height, width, 3)\n",
    "images = images.permute(0, 2, 3, 1).numpy()\n",
    "# Denormalize\n",
    "images = images / 2 + 0.5\n",
    "\n",
    "# Create a figure and a grid of subplots\n",
    "fig, axs = plt.subplots(4, 8, figsize=(12, 6))\n",
    "\n",
    "# Loop over the images and plot them\n",
    "for i, ax in enumerate(axs.flat):\n",
    "    ax.imshow(images[i])\n",
    "    ax.set_title(CLASSES[labels[i]])\n",
    "    ax.axis('off')\n",
    "\n",
    "# Show the plot\n",
    "fig.tight_layout()\n",
    "plt.show()"
   ],
   "metadata": {
    "collapsed": false,
    "pycharm": {
     "is_executing": true
    }
   }
  },
  {
   "cell_type": "code",
   "execution_count": 4,
   "outputs": [],
   "source": [
    "class Net(nn.Module):\n",
    "    def __init__(self) -> None:\n",
    "        super(Net, self).__init__()\n",
    "        self.conv1 = nn.Conv2d(3, 6, 5)\n",
    "        self.pool = nn.MaxPool2d(2, 2)\n",
    "        self.conv2 = nn.Conv2d(6, 16, 5)\n",
    "        self.fc1 = nn.Linear(16 * 5 * 5, 120)\n",
    "        self.fc2 = nn.Linear(120, 84)\n",
    "        self.fc3 = nn.Linear(84, 10)\n",
    "\n",
    "    def forward(self, x: torch.Tensor) -> torch.Tensor:\n",
    "        x = self.pool(F.relu(self.conv1(x)))\n",
    "        x = self.pool(F.relu(self.conv2(x)))\n",
    "        x = x.view(-1, 16 * 5 * 5)\n",
    "        x = F.relu(self.fc1(x))\n",
    "        x = F.relu(self.fc2(x))\n",
    "        x = self.fc3(x)\n",
    "        return x"
   ],
   "metadata": {
    "collapsed": false
   }
  },
  {
   "cell_type": "code",
   "execution_count": 5,
   "outputs": [],
   "source": [
    "def train(net, trainloader, epochs: int, verbose=False):\n",
    "    \"\"\"Train the network on the training set.\"\"\"\n",
    "    criterion = torch.nn.CrossEntropyLoss()\n",
    "    optimizer = torch.optim.Adam(net.parameters())\n",
    "    net.train()\n",
    "    training_start_time = time.time()\n",
    "    for epoch in range(epochs):\n",
    "        correct, total, epoch_loss = 0, 0, 0.0\n",
    "        for images, labels in trainloader:\n",
    "            images, labels = images.to(DEVICE), labels.to(DEVICE)\n",
    "            optimizer.zero_grad()\n",
    "            outputs = net(images)\n",
    "            loss = criterion(net(images), labels)\n",
    "            loss.backward()\n",
    "            optimizer.step()\n",
    "            # Metrics\n",
    "            epoch_loss += loss\n",
    "            total += labels.size(0)\n",
    "            correct += (torch.max(outputs.data, 1)[1] == labels).sum().item()\n",
    "        epoch_loss /= len(trainloader.dataset)\n",
    "        epoch_acc = correct / total\n",
    "        if verbose:\n",
    "            print(\n",
    "                f\"Epoch {epoch + 1}: train loss:  {epoch_loss}, accuracy: {epoch_acc}, time taken: {time.time() - training_start_time}\")\n",
    "\n",
    "\n",
    "def test(net, testloader):\n",
    "    \"\"\"Evaluate the network on the entire test set.\"\"\"\n",
    "    criterion = torch.nn.CrossEntropyLoss()\n",
    "    correct, total, loss = 0, 0, 0.0\n",
    "    net.eval()\n",
    "    with torch.no_grad():\n",
    "        for images, labels in testloader:\n",
    "            images, labels = images.to(DEVICE), labels.to(DEVICE)\n",
    "            outputs = net(images)\n",
    "            loss += criterion(outputs, labels).item()\n",
    "            _, predicted = torch.max(outputs.data, 1)\n",
    "            total += labels.size(0)\n",
    "            correct += (predicted == labels).sum().item()\n",
    "    loss /= len(testloader.dataset)\n",
    "    accuracy = correct / total\n",
    "    return loss, accuracy"
   ],
   "metadata": {
    "collapsed": false
   }
  },
  {
   "cell_type": "code",
   "execution_count": 6,
   "outputs": [
    {
     "name": "stdout",
     "output_type": "stream",
     "text": [
      "Epoch 1: train loss:  0.06070292741060257, accuracy: 0.289, time taken: 6.787944793701172\n",
      "Epoch 2: train loss:  0.05182642862200737, accuracy: 0.3993333333333333, time taken: 15.387065649032593\n",
      "Epoch 3: train loss:  0.0475374199450016, accuracy: 0.451, time taken: 22.307281970977783\n",
      "Epoch 4: train loss:  0.0448681116104126, accuracy: 0.47988888888888886, time taken: 28.740000009536743\n",
      "Epoch 5: train loss:  0.04237360879778862, accuracy: 0.5161111111111111, time taken: 34.9176459312439\n",
      "Final test set performance:\n",
      "\tloss 0.04520877415537834\n",
      "\taccuracy 0.477\n"
     ]
    }
   ],
   "source": [
    "trainloader = trainloaders[0]\n",
    "valloader = valloaders[0]\n",
    "net = Net().to(DEVICE)\n",
    "\n",
    "train(net, trainloader, 5, True)\n",
    "\n",
    "loss, accuracy = test(net, testloader)\n",
    "print(f\"Final test set performance:\\n\\tloss {loss}\\n\\taccuracy {accuracy}\")"
   ],
   "metadata": {
    "collapsed": false
   }
  },
  {
   "cell_type": "code",
   "execution_count": null,
   "outputs": [],
   "source": [
    "print(net.parameters)"
   ],
   "metadata": {
    "collapsed": false
   }
  },
  {
   "cell_type": "code",
   "execution_count": null,
   "outputs": [],
   "source": [
    "net.state_dict()"
   ],
   "metadata": {
    "collapsed": false
   }
  },
  {
   "cell_type": "code",
   "execution_count": null,
   "outputs": [],
   "source": [
    "parameters = [val.cpu().numpy() for _, val in net.state_dict().items()]\n",
    "len(parameters)"
   ],
   "metadata": {
    "collapsed": false
   }
  },
  {
   "cell_type": "code",
   "execution_count": null,
   "outputs": [],
   "source": [
    "net.state_dict()['fc3.weight']"
   ],
   "metadata": {
    "collapsed": false
   }
  },
  {
   "cell_type": "code",
   "execution_count": null,
   "outputs": [],
   "source": [
    "numpy_weights = net.state_dict()['fc3.weight'].cpu().detach().numpy()\n",
    "print(numpy_weights.shape)"
   ],
   "metadata": {
    "collapsed": false
   }
  },
  {
   "cell_type": "code",
   "execution_count": null,
   "outputs": [],
   "source": [
    "print(numpy_weights[:3].shape)"
   ],
   "metadata": {
    "collapsed": false
   }
  },
  {
   "cell_type": "code",
   "execution_count": null,
   "outputs": [],
   "source": [
    "from flwr.common import ndarray_to_bytes\n",
    "\n",
    "tensors = [ndarray_to_bytes(ndarray) for ndarray in net.state_dict()['fc3.weight']]\n",
    "tensors"
   ],
   "metadata": {
    "collapsed": false
   }
  },
  {
   "cell_type": "markdown",
   "source": [
    "# Federated Learning"
   ],
   "metadata": {
    "collapsed": false
   }
  },
  {
   "cell_type": "code",
   "execution_count": 7,
   "outputs": [],
   "source": [
    "def get_parameters(net) -> List[np.ndarray]:\n",
    "    parameters = [val.cpu().numpy() for _, val in net.state_dict().items()]\n",
    "    return parameters\n",
    "\n",
    "\n",
    "def set_parameters(net, parameters: List[np.ndarray]):\n",
    "    params_dict = zip(net.state_dict().keys(), parameters)\n",
    "    state_dict = OrderedDict({k: torch.Tensor(v) for k, v in params_dict})\n",
    "    net.load_state_dict(state_dict, strict=True)"
   ],
   "metadata": {
    "collapsed": false
   }
  },
  {
   "cell_type": "markdown",
   "source": [
    "## Local Client"
   ],
   "metadata": {
    "collapsed": false
   }
  },
  {
   "cell_type": "code",
   "execution_count": 8,
   "outputs": [],
   "source": [
    "class FlowerClient(fl.client.NumPyClient):\n",
    "    def __init__(self, net, trainloader, valloader):\n",
    "        self.net = net\n",
    "        self.trainloader = trainloader\n",
    "        self.valloader = valloader\n",
    "\n",
    "    def get_parameters(self, config):\n",
    "        return get_parameters(self.net)\n",
    "\n",
    "    def fit(self, parameters, config):\n",
    "        set_parameters(self.net, parameters)\n",
    "        train(self.net, self.trainloader, epochs=1)\n",
    "        return get_parameters(self.net), len(self.trainloader), {}\n",
    "\n",
    "    def evaluate(self, parameters, config):\n",
    "        set_parameters(self.net, parameters)\n",
    "        loss, accuracy = test(self.net, self.valloader)\n",
    "        return float(loss), len(self.valloader), {\"accuracy\": float(accuracy)}"
   ],
   "metadata": {
    "collapsed": false
   }
  },
  {
   "cell_type": "code",
   "execution_count": 9,
   "outputs": [],
   "source": [
    "def client_fn(cid: str) -> FlowerClient:\n",
    "    \"\"\"Create a Flower client representing a single organization.\"\"\"\n",
    "\n",
    "    # Load model\n",
    "    net = Net().to(DEVICE)\n",
    "\n",
    "    # Load data (CIFAR-10)\n",
    "    # Note: each client gets a different trainloader/valloader, so each client\n",
    "    # will train and evaluate on their own unique data\n",
    "    trainloader = trainloaders[int(cid)]\n",
    "    valloader = valloaders[int(cid)]\n",
    "\n",
    "    # Create a  single Flower client representing a single organization\n",
    "    return FlowerClient(net, trainloader, valloader)"
   ],
   "metadata": {
    "collapsed": false
   }
  },
  {
   "cell_type": "code",
   "execution_count": 10,
   "outputs": [],
   "source": [
    "from typing import Optional, Dict\n",
    "\n",
    "\n",
    "def weighted_average(metrics: List[Tuple[int, Metrics]]) -> Metrics:\n",
    "    # Multiply accuracy of each client by number of examples used\n",
    "    accuracies = [num_examples * m[\"accuracy\"] for num_examples, m in metrics]\n",
    "    examples = [num_examples for num_examples, _ in metrics]\n",
    "\n",
    "    # Aggregate and return custom metric (weighted average)\n",
    "    return {\"accuracy\": sum(accuracies) / sum(examples)}\n",
    "\n",
    "\n",
    "# The `evaluate` function will be by Flower called after every round\n",
    "def evaluate(server_round: int, parameters: fl.common.NDArrays, config: Dict[str, fl.common.Scalar]) -> Optional[\n",
    "    Tuple[float, Dict[str, fl.common.Scalar]]]:\n",
    "    net = Net()\n",
    "    valloader = valloaders[0]\n",
    "    set_parameters(net, parameters)  # Update model with the latest parameters\n",
    "    loss, accuracy = test(net, valloader)\n",
    "    print(f\"Server-side evaluation loss {loss} / accuracy {accuracy}\")\n",
    "    return loss, {\"accuracy\": accuracy}"
   ],
   "metadata": {
    "collapsed": false
   }
  },
  {
   "cell_type": "code",
   "execution_count": 14,
   "outputs": [],
   "source": [
    "Q = 2657003489534545107915232808830590043\n",
    "fixedPoint = np.vectorize(fixed_point)\n",
    "floatPoint = np.vectorize(float_point)\n",
    "\n",
    "\n",
    "class FedAvgSmc(FedAvg):\n",
    "    def aggregate_fit(\n",
    "            self,\n",
    "            rnd: int,\n",
    "            results: List[Tuple[fl.server.client_proxy.ClientProxy, FitRes]],\n",
    "            failures: List[BaseException],\n",
    "    ) -> Optional[Weights]:\n",
    "        if not results:\n",
    "            return None\n",
    "\n",
    "        clients = []\n",
    "        fit_results = []\n",
    "\n",
    "        for client, fit_result in results:\n",
    "            clients.append(client)\n",
    "            fit_results.append(fit_result)\n",
    "\n",
    "        fit_res_ndarray_parameters = [parameters_to_ndarrays(result.parameters) for result in\n",
    "                                      fit_results]  # list of clients, each with a list of layers(each layer representing weights)\n",
    "\n",
    "        fl_nodes = [VirtualMachine(f\"Client: {client.cid}\") for client in clients]\n",
    "\n",
    "        num_layers = len(fit_results[0].parameters.tensors)\n",
    "\n",
    "        layers_weights = {}\n",
    "\n",
    "        layers_weights_smc = {}\n",
    "\n",
    "        for layer in range(num_layers):  #loop through number of layers\n",
    "            layers_weights[f\"layer_{layer}\"] = []\n",
    "            for weights in fit_res_ndarray_parameters:\n",
    "                layers_weights[f\"layer_{layer}\"].append(fixedPoint(weights[layer]))\n",
    "\n",
    "        for layer in range(num_layers):\n",
    "            fl_node_values = [PrivateScalar(tensor, node) for tensor, node in\n",
    "                              zip(layers_weights[f'layer_{layer}'], fl_nodes)]\n",
    "\n",
    "            fl_exchanged_shares = []\n",
    "            fl_exchanged_shares_list = []\n",
    "            layers_weights_smc[f\"layer_{layer}\"] = []\n",
    "\n",
    "            for value in fl_node_values:\n",
    "                fl_exchanged_shares.append(value.share_tensor(fl_nodes, Q))\n",
    "\n",
    "            for client_shares in fl_exchanged_shares:\n",
    "                fl_exchanged_shares_list = [share.value for share in client_shares.shares]\n",
    "\n",
    "            layers_weights_smc[f'layer_{layer}'] = floatPoint(fl_exchanged_shares_list)\n",
    "\n",
    "        for i, client in enumerate(clients):\n",
    "            client_weights = []\n",
    "            for layer in layers_weights_smc.values():\n",
    "                client_weights.append(np.array(layer[i]))\n",
    "            fit_results[i].parameters = ndarrays_to_parameters(client_weights)\n",
    "\n",
    "        results = tuple(zip(clients, fit_results))\n",
    "\n",
    "        return super().aggregate_fit(rnd, results, failures)\n"
   ],
   "metadata": {
    "collapsed": false
   }
  },
  {
   "cell_type": "code",
   "execution_count": 21,
   "outputs": [
    {
     "name": "stderr",
     "output_type": "stream",
     "text": [
      "INFO flower 2023-01-25 16:59:26,395 | app.py:140 | Starting Flower simulation, config: ServerConfig(num_rounds=10, round_timeout=None)\n",
      "2023-01-25 16:59:32,630\tINFO worker.py:1518 -- Started a local Ray instance.\n",
      "INFO flower 2023-01-25 16:59:35,627 | app.py:174 | Flower VCE: Ray initialized with resources: {'node:127.0.0.1': 1.0, 'memory': 3694755840.0, 'object_store_memory': 1847377920.0, 'CPU': 4.0}\n",
      "INFO flower 2023-01-25 16:59:35,628 | server.py:86 | Initializing global parameters\n",
      "INFO flower 2023-01-25 16:59:35,629 | server.py:270 | Requesting initial parameters from one random client\n",
      "INFO flower 2023-01-25 16:59:39,773 | server.py:274 | Received initial parameters from one random client\n",
      "INFO flower 2023-01-25 16:59:39,774 | server.py:88 | Evaluating initial parameters\n",
      "INFO flower 2023-01-25 16:59:40,140 | server.py:91 | initial parameters (loss, other metrics): 0.07371141362190246, {'accuracy': 0.103}\n",
      "INFO flower 2023-01-25 16:59:40,142 | server.py:101 | FL starting\n",
      "DEBUG flower 2023-01-25 16:59:40,144 | server.py:215 | fit_round 1: strategy sampled 5 clients (out of 5)\n"
     ]
    },
    {
     "name": "stdout",
     "output_type": "stream",
     "text": [
      "Server-side evaluation loss 0.07371141362190246 / accuracy 0.103\n"
     ]
    },
    {
     "name": "stderr",
     "output_type": "stream",
     "text": [
      "DEBUG flower 2023-01-25 17:00:00,905 | server.py:229 | fit_round 1 received 5 results and 0 failures\n",
      "WARNING flower 2023-01-25 17:00:00,919 | fedavg.py:242 | No fit_metrics_aggregation_fn provided\n",
      "INFO flower 2023-01-25 17:00:01,271 | server.py:116 | fit progress: (1, 0.05931024754047394, {'accuracy': 0.331}, 21.127797899999678)\n",
      "DEBUG flower 2023-01-25 17:00:01,272 | server.py:165 | evaluate_round 1: strategy sampled 3 clients (out of 5)\n"
     ]
    },
    {
     "name": "stdout",
     "output_type": "stream",
     "text": [
      "Server-side evaluation loss 0.05931024754047394 / accuracy 0.331\n"
     ]
    },
    {
     "name": "stderr",
     "output_type": "stream",
     "text": [
      "DEBUG flower 2023-01-25 17:00:04,883 | server.py:179 | evaluate_round 1 received 3 results and 0 failures\n",
      "DEBUG flower 2023-01-25 17:00:04,883 | server.py:215 | fit_round 2: strategy sampled 5 clients (out of 5)\n",
      "DEBUG flower 2023-01-25 17:00:28,813 | server.py:229 | fit_round 2 received 5 results and 0 failures\n",
      "INFO flower 2023-01-25 17:00:29,235 | server.py:116 | fit progress: (2, 0.049288911938667294, {'accuracy': 0.439}, 49.09222669999963)\n",
      "DEBUG flower 2023-01-25 17:00:29,236 | server.py:165 | evaluate_round 2: strategy sampled 3 clients (out of 5)\n"
     ]
    },
    {
     "name": "stdout",
     "output_type": "stream",
     "text": [
      "Server-side evaluation loss 0.049288911938667294 / accuracy 0.439\n"
     ]
    },
    {
     "name": "stderr",
     "output_type": "stream",
     "text": [
      "DEBUG flower 2023-01-25 17:00:33,687 | server.py:179 | evaluate_round 2 received 3 results and 0 failures\n",
      "DEBUG flower 2023-01-25 17:00:33,688 | server.py:215 | fit_round 3: strategy sampled 5 clients (out of 5)\n",
      "DEBUG flower 2023-01-25 17:00:53,953 | server.py:229 | fit_round 3 received 5 results and 0 failures\n",
      "INFO flower 2023-01-25 17:00:54,329 | server.py:116 | fit progress: (3, 0.04529136514663696, {'accuracy': 0.492}, 74.18562489999977)\n",
      "DEBUG flower 2023-01-25 17:00:54,329 | server.py:165 | evaluate_round 3: strategy sampled 3 clients (out of 5)\n"
     ]
    },
    {
     "name": "stdout",
     "output_type": "stream",
     "text": [
      "Server-side evaluation loss 0.04529136514663696 / accuracy 0.492\n"
     ]
    },
    {
     "name": "stderr",
     "output_type": "stream",
     "text": [
      "DEBUG flower 2023-01-25 17:00:58,196 | server.py:179 | evaluate_round 3 received 3 results and 0 failures\n",
      "DEBUG flower 2023-01-25 17:00:58,198 | server.py:215 | fit_round 4: strategy sampled 5 clients (out of 5)\n",
      "DEBUG flower 2023-01-25 17:01:21,266 | server.py:229 | fit_round 4 received 5 results and 0 failures\n",
      "INFO flower 2023-01-25 17:01:21,693 | server.py:116 | fit progress: (4, 0.043591153740882876, {'accuracy': 0.514}, 101.54939339999964)\n",
      "DEBUG flower 2023-01-25 17:01:21,694 | server.py:165 | evaluate_round 4: strategy sampled 3 clients (out of 5)\n"
     ]
    },
    {
     "name": "stdout",
     "output_type": "stream",
     "text": [
      "Server-side evaluation loss 0.043591153740882876 / accuracy 0.514\n"
     ]
    },
    {
     "name": "stderr",
     "output_type": "stream",
     "text": [
      "DEBUG flower 2023-01-25 17:01:25,541 | server.py:179 | evaluate_round 4 received 3 results and 0 failures\n",
      "DEBUG flower 2023-01-25 17:01:25,542 | server.py:215 | fit_round 5: strategy sampled 5 clients (out of 5)\n",
      "DEBUG flower 2023-01-25 17:01:47,271 | server.py:229 | fit_round 5 received 5 results and 0 failures\n",
      "INFO flower 2023-01-25 17:01:47,690 | server.py:116 | fit progress: (5, 0.04186996245384216, {'accuracy': 0.529}, 127.54762309999978)\n",
      "DEBUG flower 2023-01-25 17:01:47,691 | server.py:165 | evaluate_round 5: strategy sampled 3 clients (out of 5)\n"
     ]
    },
    {
     "name": "stdout",
     "output_type": "stream",
     "text": [
      "Server-side evaluation loss 0.04186996245384216 / accuracy 0.529\n"
     ]
    },
    {
     "name": "stderr",
     "output_type": "stream",
     "text": [
      "DEBUG flower 2023-01-25 17:01:51,749 | server.py:179 | evaluate_round 5 received 3 results and 0 failures\n",
      "DEBUG flower 2023-01-25 17:01:51,750 | server.py:215 | fit_round 6: strategy sampled 5 clients (out of 5)\n",
      "DEBUG flower 2023-01-25 17:02:12,679 | server.py:229 | fit_round 6 received 5 results and 0 failures\n",
      "INFO flower 2023-01-25 17:02:13,070 | server.py:116 | fit progress: (6, 0.040791456639766695, {'accuracy': 0.545}, 152.92671299999984)\n",
      "DEBUG flower 2023-01-25 17:02:13,071 | server.py:165 | evaluate_round 6: strategy sampled 3 clients (out of 5)\n"
     ]
    },
    {
     "name": "stdout",
     "output_type": "stream",
     "text": [
      "Server-side evaluation loss 0.040791456639766695 / accuracy 0.545\n"
     ]
    },
    {
     "name": "stderr",
     "output_type": "stream",
     "text": [
      "DEBUG flower 2023-01-25 17:02:16,954 | server.py:179 | evaluate_round 6 received 3 results and 0 failures\n",
      "DEBUG flower 2023-01-25 17:02:16,956 | server.py:215 | fit_round 7: strategy sampled 5 clients (out of 5)\n",
      "DEBUG flower 2023-01-25 17:02:37,856 | server.py:229 | fit_round 7 received 5 results and 0 failures\n",
      "INFO flower 2023-01-25 17:02:38,283 | server.py:116 | fit progress: (7, 0.03993972432613373, {'accuracy': 0.558}, 178.13913060000004)\n",
      "DEBUG flower 2023-01-25 17:02:38,283 | server.py:165 | evaluate_round 7: strategy sampled 3 clients (out of 5)\n"
     ]
    },
    {
     "name": "stdout",
     "output_type": "stream",
     "text": [
      "Server-side evaluation loss 0.03993972432613373 / accuracy 0.558\n"
     ]
    },
    {
     "name": "stderr",
     "output_type": "stream",
     "text": [
      "DEBUG flower 2023-01-25 17:02:42,196 | server.py:179 | evaluate_round 7 received 3 results and 0 failures\n",
      "DEBUG flower 2023-01-25 17:02:42,198 | server.py:215 | fit_round 8: strategy sampled 5 clients (out of 5)\n",
      "DEBUG flower 2023-01-25 17:03:08,607 | server.py:229 | fit_round 8 received 5 results and 0 failures\n",
      "INFO flower 2023-01-25 17:03:09,503 | server.py:116 | fit progress: (8, 0.038863221049308776, {'accuracy': 0.583}, 209.35917040000004)\n",
      "DEBUG flower 2023-01-25 17:03:09,504 | server.py:165 | evaluate_round 8: strategy sampled 3 clients (out of 5)\n"
     ]
    },
    {
     "name": "stdout",
     "output_type": "stream",
     "text": [
      "Server-side evaluation loss 0.038863221049308776 / accuracy 0.583\n"
     ]
    },
    {
     "name": "stderr",
     "output_type": "stream",
     "text": [
      "DEBUG flower 2023-01-25 17:03:19,000 | server.py:179 | evaluate_round 8 received 3 results and 0 failures\n",
      "DEBUG flower 2023-01-25 17:03:19,003 | server.py:215 | fit_round 9: strategy sampled 5 clients (out of 5)\n",
      "DEBUG flower 2023-01-25 17:03:49,357 | server.py:229 | fit_round 9 received 5 results and 0 failures\n",
      "INFO flower 2023-01-25 17:03:49,739 | server.py:116 | fit progress: (9, 0.03826994687318802, {'accuracy': 0.572}, 249.59592049999992)\n",
      "DEBUG flower 2023-01-25 17:03:49,740 | server.py:165 | evaluate_round 9: strategy sampled 3 clients (out of 5)\n"
     ]
    },
    {
     "name": "stdout",
     "output_type": "stream",
     "text": [
      "Server-side evaluation loss 0.03826994687318802 / accuracy 0.572\n"
     ]
    },
    {
     "name": "stderr",
     "output_type": "stream",
     "text": [
      "DEBUG flower 2023-01-25 17:03:53,769 | server.py:179 | evaluate_round 9 received 3 results and 0 failures\n",
      "DEBUG flower 2023-01-25 17:03:53,770 | server.py:215 | fit_round 10: strategy sampled 5 clients (out of 5)\n",
      "DEBUG flower 2023-01-25 17:04:15,822 | server.py:229 | fit_round 10 received 5 results and 0 failures\n",
      "INFO flower 2023-01-25 17:04:16,221 | server.py:116 | fit progress: (10, 0.037453326642513274, {'accuracy': 0.589}, 276.07713749999994)\n",
      "DEBUG flower 2023-01-25 17:04:16,221 | server.py:165 | evaluate_round 10: strategy sampled 3 clients (out of 5)\n"
     ]
    },
    {
     "name": "stdout",
     "output_type": "stream",
     "text": [
      "Server-side evaluation loss 0.037453326642513274 / accuracy 0.589\n"
     ]
    },
    {
     "name": "stderr",
     "output_type": "stream",
     "text": [
      "DEBUG flower 2023-01-25 17:04:20,420 | server.py:179 | evaluate_round 10 received 3 results and 0 failures\n",
      "INFO flower 2023-01-25 17:04:20,421 | server.py:144 | FL finished in 280.27824899999996\n",
      "INFO flower 2023-01-25 17:04:20,422 | app.py:192 | app_fit: losses_distributed [(1, 0.05982142361005147), (2, 0.04976380634307861), (3, 0.04733285949627559), (4, 0.045320296684900924), (5, 0.0435385084549586), (6, 0.0417252097527186), (7, 0.040363123695055646), (8, 0.04003515897194545), (9, 0.038923298696676885), (10, 0.0381668738524119)]\n",
      "INFO flower 2023-01-25 17:04:20,423 | app.py:193 | app_fit: metrics_distributed {'accuracy': [(1, 0.3096666666666667), (2, 0.43933333333333335), (3, 0.46399999999999997), (4, 0.482), (5, 0.511), (6, 0.5276666666666667), (7, 0.5553333333333333), (8, 0.561), (9, 0.5713333333333334), (10, 0.585)]}\n",
      "INFO flower 2023-01-25 17:04:20,424 | app.py:194 | app_fit: losses_centralized [(0, 0.07371141362190246), (1, 0.05931024754047394), (2, 0.049288911938667294), (3, 0.04529136514663696), (4, 0.043591153740882876), (5, 0.04186996245384216), (6, 0.040791456639766695), (7, 0.03993972432613373), (8, 0.038863221049308776), (9, 0.03826994687318802), (10, 0.037453326642513274)]\n",
      "INFO flower 2023-01-25 17:04:20,425 | app.py:195 | app_fit: metrics_centralized {'accuracy': [(0, 0.103), (1, 0.331), (2, 0.439), (3, 0.492), (4, 0.514), (5, 0.529), (6, 0.545), (7, 0.558), (8, 0.583), (9, 0.572), (10, 0.589)]}\n"
     ]
    },
    {
     "data": {
      "text/plain": "History (loss, distributed):\n\tround 1: 0.05982142361005147\n\tround 2: 0.04976380634307861\n\tround 3: 0.04733285949627559\n\tround 4: 0.045320296684900924\n\tround 5: 0.0435385084549586\n\tround 6: 0.0417252097527186\n\tround 7: 0.040363123695055646\n\tround 8: 0.04003515897194545\n\tround 9: 0.038923298696676885\n\tround 10: 0.0381668738524119\nHistory (loss, centralized):\n\tround 0: 0.07371141362190246\n\tround 1: 0.05931024754047394\n\tround 2: 0.049288911938667294\n\tround 3: 0.04529136514663696\n\tround 4: 0.043591153740882876\n\tround 5: 0.04186996245384216\n\tround 6: 0.040791456639766695\n\tround 7: 0.03993972432613373\n\tround 8: 0.038863221049308776\n\tround 9: 0.03826994687318802\n\tround 10: 0.037453326642513274\nHistory (metrics, distributed):\n{'accuracy': [(1, 0.3096666666666667), (2, 0.43933333333333335), (3, 0.46399999999999997), (4, 0.482), (5, 0.511), (6, 0.5276666666666667), (7, 0.5553333333333333), (8, 0.561), (9, 0.5713333333333334), (10, 0.585)]}History (metrics, centralized):\n{'accuracy': [(0, 0.103), (1, 0.331), (2, 0.439), (3, 0.492), (4, 0.514), (5, 0.529), (6, 0.545), (7, 0.558), (8, 0.583), (9, 0.572), (10, 0.589)]}"
     },
     "execution_count": 21,
     "metadata": {},
     "output_type": "execute_result"
    }
   ],
   "source": [
    "# Create FedAvg strategy\n",
    "strategy = FedAvg(\n",
    "    fraction_fit=1.0,  # Sample 100% of available clients for training\n",
    "    fraction_evaluate=0.5,  # Sample 50% of available clients for evaluation\n",
    "    min_fit_clients=5,  # Never sample less than 5 clients for training\n",
    "    min_evaluate_clients=3,  # Never sample less than 3 clients for evaluation\n",
    "    min_available_clients=5,  # Wait until 5 clients are available\n",
    "    evaluate_metrics_aggregation_fn=weighted_average,  # pass the metric aggregation function\n",
    "    evaluate_fn=evaluate,  # Pass the evaluation function\n",
    ")\n",
    "\n",
    "# Start simulation\n",
    "fl.simulation.start_simulation(\n",
    "    client_fn=client_fn,\n",
    "    num_clients=NUM_CLIENTS,\n",
    "    config=fl.server.ServerConfig(num_rounds=10),\n",
    "    strategy=strategy,\n",
    ")"
   ],
   "metadata": {
    "collapsed": false
   }
  },
  {
   "cell_type": "code",
   "execution_count": 20,
   "outputs": [
    {
     "name": "stderr",
     "output_type": "stream",
     "text": [
      "INFO flower 2023-01-25 16:43:35,792 | app.py:140 | Starting Flower simulation, config: ServerConfig(num_rounds=10, round_timeout=None)\n",
      "2023-01-25 16:43:43,553\tINFO worker.py:1518 -- Started a local Ray instance.\n",
      "INFO flower 2023-01-25 16:43:47,227 | app.py:174 | Flower VCE: Ray initialized with resources: {'object_store_memory': 1399141171.0, 'memory': 2798282343.0, 'node:127.0.0.1': 1.0, 'CPU': 4.0}\n",
      "INFO flower 2023-01-25 16:43:47,229 | server.py:86 | Initializing global parameters\n",
      "INFO flower 2023-01-25 16:43:47,229 | server.py:270 | Requesting initial parameters from one random client\n",
      "INFO flower 2023-01-25 16:43:53,405 | server.py:274 | Received initial parameters from one random client\n",
      "INFO flower 2023-01-25 16:43:53,406 | server.py:88 | Evaluating initial parameters\n",
      "INFO flower 2023-01-25 16:43:54,174 | server.py:91 | initial parameters (loss, other metrics): 0.07366246438026428, {'accuracy': 0.104}\n",
      "INFO flower 2023-01-25 16:43:54,175 | server.py:101 | FL starting\n",
      "DEBUG flower 2023-01-25 16:43:54,176 | server.py:215 | fit_round 1: strategy sampled 5 clients (out of 5)\n"
     ]
    },
    {
     "name": "stdout",
     "output_type": "stream",
     "text": [
      "Server-side evaluation loss 0.07366246438026428 / accuracy 0.104\n"
     ]
    },
    {
     "name": "stderr",
     "output_type": "stream",
     "text": [
      "DEBUG flower 2023-01-25 16:44:20,363 | server.py:229 | fit_round 1 received 5 results and 0 failures\n",
      "WARNING flower 2023-01-25 16:44:22,322 | fedavg.py:242 | No fit_metrics_aggregation_fn provided\n",
      "INFO flower 2023-01-25 16:44:22,694 | server.py:116 | fit progress: (1, 0.060945884704589844, {'accuracy': 0.323}, 28.517650799999956)\n",
      "DEBUG flower 2023-01-25 16:44:22,695 | server.py:165 | evaluate_round 1: strategy sampled 3 clients (out of 5)\n"
     ]
    },
    {
     "name": "stdout",
     "output_type": "stream",
     "text": [
      "Server-side evaluation loss 0.060945884704589844 / accuracy 0.323\n"
     ]
    },
    {
     "name": "stderr",
     "output_type": "stream",
     "text": [
      "DEBUG flower 2023-01-25 16:44:27,083 | server.py:179 | evaluate_round 1 received 3 results and 0 failures\n",
      "DEBUG flower 2023-01-25 16:44:27,085 | server.py:215 | fit_round 2: strategy sampled 5 clients (out of 5)\n",
      "DEBUG flower 2023-01-25 16:44:49,644 | server.py:229 | fit_round 2 received 5 results and 0 failures\n",
      "INFO flower 2023-01-25 16:44:51,891 | server.py:116 | fit progress: (2, 0.04970317077636719, {'accuracy': 0.444}, 57.71469950000005)\n",
      "DEBUG flower 2023-01-25 16:44:51,892 | server.py:165 | evaluate_round 2: strategy sampled 3 clients (out of 5)\n"
     ]
    },
    {
     "name": "stdout",
     "output_type": "stream",
     "text": [
      "Server-side evaluation loss 0.04970317077636719 / accuracy 0.444\n"
     ]
    },
    {
     "name": "stderr",
     "output_type": "stream",
     "text": [
      "DEBUG flower 2023-01-25 16:44:57,836 | server.py:179 | evaluate_round 2 received 3 results and 0 failures\n",
      "DEBUG flower 2023-01-25 16:44:57,837 | server.py:215 | fit_round 3: strategy sampled 5 clients (out of 5)\n",
      "DEBUG flower 2023-01-25 16:45:19,483 | server.py:229 | fit_round 3 received 5 results and 0 failures\n",
      "INFO flower 2023-01-25 16:45:22,028 | server.py:116 | fit progress: (3, 0.046434256434440616, {'accuracy': 0.468}, 87.85145439999997)\n",
      "DEBUG flower 2023-01-25 16:45:22,029 | server.py:165 | evaluate_round 3: strategy sampled 3 clients (out of 5)\n"
     ]
    },
    {
     "name": "stdout",
     "output_type": "stream",
     "text": [
      "Server-side evaluation loss 0.046434256434440616 / accuracy 0.468\n"
     ]
    },
    {
     "name": "stderr",
     "output_type": "stream",
     "text": [
      "DEBUG flower 2023-01-25 16:45:26,841 | ray_client_proxy.py:104 | \u001B[36mray::launch_and_evaluate()\u001B[39m (pid=2368, ip=127.0.0.1)\n",
      "  File \"python\\ray\\_raylet.pyx\", line 620, in ray._raylet.execute_task\n",
      "  File \"C:\\Users\\user\\AppData\\Roaming\\Python\\Python39\\site-packages\\ray\\_private\\memory_monitor.py\", line 162, in raise_if_low_memory\n",
      "    raise RayOutOfMemoryError(\n",
      "ray._private.memory_monitor.RayOutOfMemoryError: More than 95% of the memory on node DESKTOP-ST1MD20 is used (15.19 / 15.87 GB). The top 10 memory consumers are:\n",
      "\n",
      "PID\tMEM\tCOMMAND\n",
      "8008\t3.1GiB\tC:\\Program Files\\JetBrains\\PyCharm 2022.3.1\\bin\\pycharm64.exe\n",
      "17160\t1.61GiB\tC:\\Users\\user\\.conda\\envs\\machine_learning_0\\python.exe -m ipykernel_launcher -f C:\\Users\\user\\AppDa\n",
      "4144\t1.09GiB\tC:\\Users\\user\\.conda\\envs\\machine_learning_0\\python.exe C:\\Users\\user\\AppData\\Roaming\\Python\\Python3\n",
      "17248\t1.08GiB\tC:\\Users\\user\\.conda\\envs\\machine_learning_0\\python.exe C:\\Users\\user\\AppData\\Roaming\\Python\\Python3\n",
      "16340\t1.08GiB\tC:\\Users\\user\\.conda\\envs\\machine_learning_0\\python.exe C:\\Users\\user\\AppData\\Roaming\\Python\\Python3\n",
      "1808\t1.08GiB\tC:\\Users\\user\\.conda\\envs\\machine_learning_0\\python.exe C:\\Users\\user\\AppData\\Roaming\\Python\\Python3\n",
      "12120\t0.94GiB\tC:\\Users\\user\\.conda\\envs\\machine_learning_0\\python.exe C:\\Users\\user\\AppData\\Roaming\\Python\\Python3\n",
      "2368\t0.79GiB\tC:\\Users\\user\\.conda\\envs\\machine_learning_0\\python.exe C:\\Users\\user\\AppData\\Roaming\\Python\\Python3\n",
      "11876\t0.66GiB\tC:\\Users\\user\\.conda\\envs\\machine_learning_0\\python.exe C:\\Users\\user\\AppData\\Roaming\\Python\\Python3\n",
      "7032\t0.37GiB\tC:\\Users\\user\\.conda\\envs\\machine_learning_0\\python.exe C:\\Users\\user\\AppData\\Roaming\\Python\\Python3\n",
      "\n",
      "In addition, up to 0.0 GiB of shared memory is currently being used by the Ray object store.\n",
      "---\n",
      "--- Tip: Use the `ray memory` command to list active objects in the cluster.\n",
      "--- To disable OOM exceptions, set RAY_DISABLE_MEMORY_MONITOR=1.\n",
      "---\n",
      "DEBUG flower 2023-01-25 16:45:26,846 | server.py:179 | evaluate_round 3 received 2 results and 1 failures\n",
      "DEBUG flower 2023-01-25 16:45:26,848 | server.py:215 | fit_round 4: strategy sampled 5 clients (out of 5)\n",
      "DEBUG flower 2023-01-25 16:45:48,558 | server.py:229 | fit_round 4 received 5 results and 0 failures\n",
      "INFO flower 2023-01-25 16:45:50,941 | server.py:116 | fit progress: (4, 0.04433354783058167, {'accuracy': 0.493}, 116.76511800000003)\n",
      "DEBUG flower 2023-01-25 16:45:50,943 | server.py:165 | evaluate_round 4: strategy sampled 3 clients (out of 5)\n"
     ]
    },
    {
     "name": "stdout",
     "output_type": "stream",
     "text": [
      "Server-side evaluation loss 0.04433354783058167 / accuracy 0.493\n"
     ]
    },
    {
     "name": "stderr",
     "output_type": "stream",
     "text": [
      "DEBUG flower 2023-01-25 16:45:55,158 | server.py:179 | evaluate_round 4 received 3 results and 0 failures\n",
      "DEBUG flower 2023-01-25 16:45:55,159 | server.py:215 | fit_round 5: strategy sampled 5 clients (out of 5)\n",
      "DEBUG flower 2023-01-25 16:46:17,134 | server.py:229 | fit_round 5 received 5 results and 0 failures\n",
      "INFO flower 2023-01-25 16:46:19,628 | server.py:116 | fit progress: (5, 0.042850679278373716, {'accuracy': 0.512}, 145.45137520000003)\n",
      "DEBUG flower 2023-01-25 16:46:19,629 | server.py:165 | evaluate_round 5: strategy sampled 3 clients (out of 5)\n"
     ]
    },
    {
     "name": "stdout",
     "output_type": "stream",
     "text": [
      "Server-side evaluation loss 0.042850679278373716 / accuracy 0.512\n"
     ]
    },
    {
     "name": "stderr",
     "output_type": "stream",
     "text": [
      "DEBUG flower 2023-01-25 16:46:24,747 | server.py:179 | evaluate_round 5 received 3 results and 0 failures\n",
      "DEBUG flower 2023-01-25 16:46:24,748 | server.py:215 | fit_round 6: strategy sampled 5 clients (out of 5)\n",
      "DEBUG flower 2023-01-25 16:46:50,040 | server.py:229 | fit_round 6 received 5 results and 0 failures\n",
      "INFO flower 2023-01-25 16:46:53,362 | server.py:116 | fit progress: (6, 0.041073215126991275, {'accuracy': 0.543}, 179.18575080000005)\n",
      "DEBUG flower 2023-01-25 16:46:53,363 | server.py:165 | evaluate_round 6: strategy sampled 3 clients (out of 5)\n"
     ]
    },
    {
     "name": "stdout",
     "output_type": "stream",
     "text": [
      "Server-side evaluation loss 0.041073215126991275 / accuracy 0.543\n"
     ]
    },
    {
     "name": "stderr",
     "output_type": "stream",
     "text": [
      "DEBUG flower 2023-01-25 16:46:58,358 | server.py:179 | evaluate_round 6 received 3 results and 0 failures\n",
      "DEBUG flower 2023-01-25 16:46:58,360 | server.py:215 | fit_round 7: strategy sampled 5 clients (out of 5)\n",
      "DEBUG flower 2023-01-25 16:47:24,593 | server.py:229 | fit_round 7 received 5 results and 0 failures\n",
      "INFO flower 2023-01-25 16:47:27,463 | server.py:116 | fit progress: (7, 0.03987459802627563, {'accuracy': 0.555}, 213.28573800000004)\n",
      "DEBUG flower 2023-01-25 16:47:27,463 | server.py:165 | evaluate_round 7: strategy sampled 3 clients (out of 5)\n"
     ]
    },
    {
     "name": "stdout",
     "output_type": "stream",
     "text": [
      "Server-side evaluation loss 0.03987459802627563 / accuracy 0.555\n"
     ]
    },
    {
     "name": "stderr",
     "output_type": "stream",
     "text": [
      "DEBUG flower 2023-01-25 16:47:31,707 | server.py:179 | evaluate_round 7 received 3 results and 0 failures\n",
      "DEBUG flower 2023-01-25 16:47:31,709 | server.py:215 | fit_round 8: strategy sampled 5 clients (out of 5)\n",
      "DEBUG flower 2023-01-25 16:47:58,553 | server.py:229 | fit_round 8 received 5 results and 0 failures\n",
      "INFO flower 2023-01-25 16:48:01,084 | server.py:116 | fit progress: (8, 0.03886967134475708, {'accuracy': 0.583}, 246.90775719999988)\n",
      "DEBUG flower 2023-01-25 16:48:01,086 | server.py:165 | evaluate_round 8: strategy sampled 3 clients (out of 5)\n"
     ]
    },
    {
     "name": "stdout",
     "output_type": "stream",
     "text": [
      "Server-side evaluation loss 0.03886967134475708 / accuracy 0.583\n"
     ]
    },
    {
     "name": "stderr",
     "output_type": "stream",
     "text": [
      "DEBUG flower 2023-01-25 16:48:05,483 | server.py:179 | evaluate_round 8 received 3 results and 0 failures\n",
      "DEBUG flower 2023-01-25 16:48:05,484 | server.py:215 | fit_round 9: strategy sampled 5 clients (out of 5)\n",
      "DEBUG flower 2023-01-25 16:48:33,448 | server.py:229 | fit_round 9 received 5 results and 0 failures\n",
      "INFO flower 2023-01-25 16:48:36,926 | server.py:116 | fit progress: (9, 0.03761280655860901, {'accuracy': 0.592}, 282.7495922999999)\n",
      "DEBUG flower 2023-01-25 16:48:36,927 | server.py:165 | evaluate_round 9: strategy sampled 3 clients (out of 5)\n"
     ]
    },
    {
     "name": "stdout",
     "output_type": "stream",
     "text": [
      "Server-side evaluation loss 0.03761280655860901 / accuracy 0.592\n"
     ]
    },
    {
     "name": "stderr",
     "output_type": "stream",
     "text": [
      "DEBUG flower 2023-01-25 16:48:40,697 | server.py:179 | evaluate_round 9 received 3 results and 0 failures\n",
      "DEBUG flower 2023-01-25 16:48:40,699 | server.py:215 | fit_round 10: strategy sampled 5 clients (out of 5)\n",
      "DEBUG flower 2023-01-25 16:49:04,415 | server.py:229 | fit_round 10 received 5 results and 0 failures\n",
      "INFO flower 2023-01-25 16:49:07,062 | server.py:116 | fit progress: (10, 0.037135023415088654, {'accuracy': 0.592}, 312.88570119999986)\n",
      "DEBUG flower 2023-01-25 16:49:07,063 | server.py:165 | evaluate_round 10: strategy sampled 3 clients (out of 5)\n"
     ]
    },
    {
     "name": "stdout",
     "output_type": "stream",
     "text": [
      "Server-side evaluation loss 0.037135023415088654 / accuracy 0.592\n"
     ]
    },
    {
     "name": "stderr",
     "output_type": "stream",
     "text": [
      "DEBUG flower 2023-01-25 16:49:11,087 | server.py:179 | evaluate_round 10 received 3 results and 0 failures\n",
      "INFO flower 2023-01-25 16:49:11,088 | server.py:144 | FL finished in 316.9110355\n",
      "INFO flower 2023-01-25 16:49:11,089 | app.py:192 | app_fit: losses_distributed [(1, 0.06054756514231364), (2, 0.05026258707046508), (3, 0.04616250211000443), (4, 0.044694978316624966), (5, 0.04345247842868169), (6, 0.042390558044115706), (7, 0.041094587981700896), (8, 0.03963400242726008), (9, 0.039993994653224944), (10, 0.03858726527293523)]\n",
      "INFO flower 2023-01-25 16:49:11,090 | app.py:193 | app_fit: metrics_distributed {'accuracy': [(1, 0.3353333333333333), (2, 0.4386666666666667), (3, 0.492), (4, 0.4993333333333334), (5, 0.516), (6, 0.531), (7, 0.5486666666666666), (8, 0.5693333333333334), (9, 0.555), (10, 0.5713333333333334)]}\n",
      "INFO flower 2023-01-25 16:49:11,091 | app.py:194 | app_fit: losses_centralized [(0, 0.07366246438026428), (1, 0.060945884704589844), (2, 0.04970317077636719), (3, 0.046434256434440616), (4, 0.04433354783058167), (5, 0.042850679278373716), (6, 0.041073215126991275), (7, 0.03987459802627563), (8, 0.03886967134475708), (9, 0.03761280655860901), (10, 0.037135023415088654)]\n",
      "INFO flower 2023-01-25 16:49:11,092 | app.py:195 | app_fit: metrics_centralized {'accuracy': [(0, 0.104), (1, 0.323), (2, 0.444), (3, 0.468), (4, 0.493), (5, 0.512), (6, 0.543), (7, 0.555), (8, 0.583), (9, 0.592), (10, 0.592)]}\n"
     ]
    },
    {
     "data": {
      "text/plain": "History (loss, distributed):\n\tround 1: 0.06054756514231364\n\tround 2: 0.05026258707046508\n\tround 3: 0.04616250211000443\n\tround 4: 0.044694978316624966\n\tround 5: 0.04345247842868169\n\tround 6: 0.042390558044115706\n\tround 7: 0.041094587981700896\n\tround 8: 0.03963400242726008\n\tround 9: 0.039993994653224944\n\tround 10: 0.03858726527293523\nHistory (loss, centralized):\n\tround 0: 0.07366246438026428\n\tround 1: 0.060945884704589844\n\tround 2: 0.04970317077636719\n\tround 3: 0.046434256434440616\n\tround 4: 0.04433354783058167\n\tround 5: 0.042850679278373716\n\tround 6: 0.041073215126991275\n\tround 7: 0.03987459802627563\n\tround 8: 0.03886967134475708\n\tround 9: 0.03761280655860901\n\tround 10: 0.037135023415088654\nHistory (metrics, distributed):\n{'accuracy': [(1, 0.3353333333333333), (2, 0.4386666666666667), (3, 0.492), (4, 0.4993333333333334), (5, 0.516), (6, 0.531), (7, 0.5486666666666666), (8, 0.5693333333333334), (9, 0.555), (10, 0.5713333333333334)]}History (metrics, centralized):\n{'accuracy': [(0, 0.104), (1, 0.323), (2, 0.444), (3, 0.468), (4, 0.493), (5, 0.512), (6, 0.543), (7, 0.555), (8, 0.583), (9, 0.592), (10, 0.592)]}"
     },
     "execution_count": 20,
     "metadata": {},
     "output_type": "execute_result"
    }
   ],
   "source": [
    "# Create FedAvgSmc strategy\n",
    "strategy = FedAvgSmc(\n",
    "    fraction_fit=1.0,  # Sample 100% of available clients for training\n",
    "    fraction_evaluate=0.5,  # Sample 50% of available clients for evaluation\n",
    "    min_fit_clients=5,  # Never sample less than 5 clients for training\n",
    "    min_evaluate_clients=3,  # Never sample less than 3 clients for evaluation\n",
    "    min_available_clients=5,  # Wait until 5 clients are available\n",
    "    evaluate_metrics_aggregation_fn=weighted_average,  # pass the metric aggregation function\n",
    "    evaluate_fn=evaluate,  # Pass the evaluation function\n",
    ")\n",
    "\n",
    "# Start simulation\n",
    "fl.simulation.start_simulation(\n",
    "    client_fn=client_fn,\n",
    "    num_clients=NUM_CLIENTS,\n",
    "    config=fl.server.ServerConfig(num_rounds=10),\n",
    "    strategy=strategy,\n",
    ")"
   ],
   "metadata": {
    "collapsed": false
   }
  }
 ],
 "metadata": {
  "kernelspec": {
   "display_name": "Python 3",
   "language": "python",
   "name": "python3"
  },
  "language_info": {
   "codemirror_mode": {
    "name": "ipython",
    "version": 2
   },
   "file_extension": ".py",
   "mimetype": "text/x-python",
   "name": "python",
   "nbconvert_exporter": "python",
   "pygments_lexer": "ipython2",
   "version": "2.7.6"
  }
 },
 "nbformat": 4,
 "nbformat_minor": 0
}
